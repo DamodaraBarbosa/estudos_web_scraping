{
  "nbformat": 4,
  "nbformat_minor": 0,
  "metadata": {
    "colab": {
      "provenance": [],
      "authorship_tag": "ABX9TyPqleYfMkbVJxkZurTHeklu",
      "include_colab_link": true
    },
    "kernelspec": {
      "name": "python3",
      "display_name": "Python 3"
    },
    "language_info": {
      "name": "python"
    }
  },
  "cells": [
    {
      "cell_type": "markdown",
      "metadata": {
        "id": "view-in-github",
        "colab_type": "text"
      },
      "source": [
        "<a href=\"https://colab.research.google.com/github/DamodaraBarbosa/estudos_web_scraping/blob/main/Web_Scraping_Xbox_360_Metacritic.ipynb\" target=\"_parent\"><img src=\"https://colab.research.google.com/assets/colab-badge.svg\" alt=\"Open In Colab\"/></a>"
      ]
    },
    {
      "cell_type": "markdown",
      "source": [
        "Importando as bibliotecas "
      ],
      "metadata": {
        "id": "vqY5dZf05o-S"
      }
    },
    {
      "cell_type": "code",
      "execution_count": 1,
      "metadata": {
        "id": "KT0cRJcHEygz"
      },
      "outputs": [],
      "source": [
        "import pandas as pd\n",
        "from urllib.request import Request, urlopen\n",
        "from urllib.error import HTTPError, URLError\n",
        "from bs4 import BeautifulSoup"
      ]
    },
    {
      "cell_type": "markdown",
      "source": [
        "# Web Scraping dos dados do Metacritic referentes aos jogos de Xbox 360"
      ],
      "metadata": {
        "id": "3qoLBmvn5tHr"
      }
    },
    {
      "cell_type": "code",
      "source": [
        "url = 'https://www.metacritic.com/browse/games/release-date/available/xbox360/date?page='"
      ],
      "metadata": {
        "id": "wnHWp6x4E78O"
      },
      "execution_count": 2,
      "outputs": []
    },
    {
      "cell_type": "code",
      "source": [
        "headers = {'User-Agent': 'Mozilla/5.0 (Windows NT 10.0; Win64; x64) AppleWebKit/537.36 (KHTML, like Gecko) Chrome/104.0.0.0 Safari/537.36'}"
      ],
      "metadata": {
        "id": "p7c_DZoHFGb3"
      },
      "execution_count": 3,
      "outputs": []
    },
    {
      "cell_type": "code",
      "source": [
        "# a seguinte função define o metascore do jogo:\n",
        "\n",
        "def metascore_score(mscore):\n",
        "  if 'positive' in str(mscore):\n",
        "    meta = mscore.find('div', {'class': 'metascore_w large game positive'}).get_text()\n",
        "  elif 'mixed' in str(mscore):\n",
        "    meta = mscore.find('div', {'class': 'metascore_w large game mixed'}).get_text()\n",
        "  elif 'negative' in str(mscore):\n",
        "    meta = mscore.find('div', {'class': 'metascore_w large game negative'}).get_text()\n",
        "  else:\n",
        "    meta = mscore.find('div', {'class': 'metascore_w large game tbd'}).get_text()\n",
        "  return meta"
      ],
      "metadata": {
        "id": "M9VPKQA8FHYt"
      },
      "execution_count": 15,
      "outputs": []
    },
    {
      "cell_type": "code",
      "source": [
        "# já esta função define o userscore do jogo:\n",
        "\n",
        "def userscore_score(uscore): \n",
        "  if 'positive' in str(uscore):\n",
        "    user = uscore.find('div', {'class': 'metascore_w user large game positive'}).get_text()\n",
        "  elif 'mixed' in str(uscore):\n",
        "    user = uscore.find('div', {'class': 'metascore_w user large game mixed'}).get_text()\n",
        "  elif 'negative' in str(uscore):\n",
        "    user = uscore.find('div', {'class': 'metascore_w user large game negative'}).get_text()\n",
        "  else:\n",
        "    user = uscore.find('div', {'class': 'metascore_w user large game tbd'}).get_text()\n",
        "  \n",
        "  return user"
      ],
      "metadata": {
        "id": "gCKb4xqgFNbd"
      },
      "execution_count": 16,
      "outputs": []
    },
    {
      "cell_type": "code",
      "source": [
        "# o dado de cada jogo será armazenado no dicionário 'game' e cada 'game' na lista 'games'\n",
        "\n",
        "game = dict()\n",
        "games = list()"
      ],
      "metadata": {
        "id": "edfVYxHAFRVX"
      },
      "execution_count": 17,
      "outputs": []
    },
    {
      "cell_type": "code",
      "source": [
        "for i in range(0, 30):\n",
        "  try:\n",
        "    req = Request((url + str(i)), headers = headers)\n",
        "    response = urlopen(req)\n",
        "    html = response.read().decode('utf-8')\n",
        "    soup = BeautifulSoup(html, 'html.parser')\n",
        "  except HTTPError as e:\n",
        "    print(e.status, e.reason)\n",
        "  except URLError as e:\n",
        "    print(e.reason)\n",
        "\n",
        "  soup_jogos = soup.findAll('td', {'class': 'clamp-summary-wrap'})\n",
        "\n",
        "  for index, soup_jogo in enumerate(soup_jogos):\n",
        "    game['Name'] = soup_jogo.find('a', {'class': 'title'}).find('h3').get_text()\n",
        "    spans = soup_jogo.find('div', {'class': 'clamp-details'}).findAll('span')\n",
        "    game['Release date'] = spans[-1].get_text()\n",
        "    metascore = soup_jogo.find('div', {'class': 'clamp-metascore'})\n",
        "    userscore = soup_jogo.find('div', {'class': 'clamp-userscore'})\n",
        "    game['Metascore'] = metascore_score(metascore)\n",
        "    game['Userscore'] = userscore_score(userscore)\n",
        "\n",
        "    games.append(game.copy())"
      ],
      "metadata": {
        "id": "kDWgTzwnFUMl"
      },
      "execution_count": 21,
      "outputs": []
    },
    {
      "cell_type": "code",
      "source": [
        "# a quantidade de jogos com dados obtidos na rotina de scraping:\n",
        "\n",
        "len(games)"
      ],
      "metadata": {
        "id": "NPoR24_JFpJn",
        "colab": {
          "base_uri": "https://localhost:8080/"
        },
        "outputId": "96ef65cd-e432-482f-a33f-7e661931c07d"
      },
      "execution_count": 24,
      "outputs": [
        {
          "output_type": "execute_result",
          "data": {
            "text/plain": [
              "5926"
            ]
          },
          "metadata": {},
          "execution_count": 24
        }
      ]
    },
    {
      "cell_type": "markdown",
      "source": [
        "# Definindo o dataframe com os dados dos jogos"
      ],
      "metadata": {
        "id": "fGeShWpJ6Xt2"
      }
    },
    {
      "cell_type": "code",
      "source": [
        "df_xbox_360_metacritic = pd.DataFrame(games)\n",
        "df_xbox_360_metacritic.head()"
      ],
      "metadata": {
        "colab": {
          "base_uri": "https://localhost:8080/",
          "height": 206
        },
        "id": "Xh9U9ldu6S4B",
        "outputId": "8c83ce36-20c5-4f51-c02c-ee48614f3ce7"
      },
      "execution_count": 27,
      "outputs": [
        {
          "output_type": "execute_result",
          "data": {
            "text/plain": [
              "                                           Name   Release date Metascore  \\\n",
              "0          Indiana Jones and the Emperor's Tomb  June 11, 2019       tbd   \n",
              "1                    Tom Clancy's Splinter Cell  June 11, 2019       tbd   \n",
              "2                           Armed and Dangerous  June 11, 2019       tbd   \n",
              "3                   Sphinx and the Cursed Mummy  June 11, 2019       tbd   \n",
              "4  Tom Clancy's Splinter Cell: Pandora Tomorrow  June 11, 2019       tbd   \n",
              "\n",
              "  Userscore  \n",
              "0       tbd  \n",
              "1       tbd  \n",
              "2       tbd  \n",
              "3       tbd  \n",
              "4       tbd  "
            ],
            "text/html": [
              "\n",
              "  <div id=\"df-ec4348c8-aab8-47f1-bdf1-d5180d9eeda3\">\n",
              "    <div class=\"colab-df-container\">\n",
              "      <div>\n",
              "<style scoped>\n",
              "    .dataframe tbody tr th:only-of-type {\n",
              "        vertical-align: middle;\n",
              "    }\n",
              "\n",
              "    .dataframe tbody tr th {\n",
              "        vertical-align: top;\n",
              "    }\n",
              "\n",
              "    .dataframe thead th {\n",
              "        text-align: right;\n",
              "    }\n",
              "</style>\n",
              "<table border=\"1\" class=\"dataframe\">\n",
              "  <thead>\n",
              "    <tr style=\"text-align: right;\">\n",
              "      <th></th>\n",
              "      <th>Name</th>\n",
              "      <th>Release date</th>\n",
              "      <th>Metascore</th>\n",
              "      <th>Userscore</th>\n",
              "    </tr>\n",
              "  </thead>\n",
              "  <tbody>\n",
              "    <tr>\n",
              "      <th>0</th>\n",
              "      <td>Indiana Jones and the Emperor's Tomb</td>\n",
              "      <td>June 11, 2019</td>\n",
              "      <td>tbd</td>\n",
              "      <td>tbd</td>\n",
              "    </tr>\n",
              "    <tr>\n",
              "      <th>1</th>\n",
              "      <td>Tom Clancy's Splinter Cell</td>\n",
              "      <td>June 11, 2019</td>\n",
              "      <td>tbd</td>\n",
              "      <td>tbd</td>\n",
              "    </tr>\n",
              "    <tr>\n",
              "      <th>2</th>\n",
              "      <td>Armed and Dangerous</td>\n",
              "      <td>June 11, 2019</td>\n",
              "      <td>tbd</td>\n",
              "      <td>tbd</td>\n",
              "    </tr>\n",
              "    <tr>\n",
              "      <th>3</th>\n",
              "      <td>Sphinx and the Cursed Mummy</td>\n",
              "      <td>June 11, 2019</td>\n",
              "      <td>tbd</td>\n",
              "      <td>tbd</td>\n",
              "    </tr>\n",
              "    <tr>\n",
              "      <th>4</th>\n",
              "      <td>Tom Clancy's Splinter Cell: Pandora Tomorrow</td>\n",
              "      <td>June 11, 2019</td>\n",
              "      <td>tbd</td>\n",
              "      <td>tbd</td>\n",
              "    </tr>\n",
              "  </tbody>\n",
              "</table>\n",
              "</div>\n",
              "      <button class=\"colab-df-convert\" onclick=\"convertToInteractive('df-ec4348c8-aab8-47f1-bdf1-d5180d9eeda3')\"\n",
              "              title=\"Convert this dataframe to an interactive table.\"\n",
              "              style=\"display:none;\">\n",
              "        \n",
              "  <svg xmlns=\"http://www.w3.org/2000/svg\" height=\"24px\"viewBox=\"0 0 24 24\"\n",
              "       width=\"24px\">\n",
              "    <path d=\"M0 0h24v24H0V0z\" fill=\"none\"/>\n",
              "    <path d=\"M18.56 5.44l.94 2.06.94-2.06 2.06-.94-2.06-.94-.94-2.06-.94 2.06-2.06.94zm-11 1L8.5 8.5l.94-2.06 2.06-.94-2.06-.94L8.5 2.5l-.94 2.06-2.06.94zm10 10l.94 2.06.94-2.06 2.06-.94-2.06-.94-.94-2.06-.94 2.06-2.06.94z\"/><path d=\"M17.41 7.96l-1.37-1.37c-.4-.4-.92-.59-1.43-.59-.52 0-1.04.2-1.43.59L10.3 9.45l-7.72 7.72c-.78.78-.78 2.05 0 2.83L4 21.41c.39.39.9.59 1.41.59.51 0 1.02-.2 1.41-.59l7.78-7.78 2.81-2.81c.8-.78.8-2.07 0-2.86zM5.41 20L4 18.59l7.72-7.72 1.47 1.35L5.41 20z\"/>\n",
              "  </svg>\n",
              "      </button>\n",
              "      \n",
              "  <style>\n",
              "    .colab-df-container {\n",
              "      display:flex;\n",
              "      flex-wrap:wrap;\n",
              "      gap: 12px;\n",
              "    }\n",
              "\n",
              "    .colab-df-convert {\n",
              "      background-color: #E8F0FE;\n",
              "      border: none;\n",
              "      border-radius: 50%;\n",
              "      cursor: pointer;\n",
              "      display: none;\n",
              "      fill: #1967D2;\n",
              "      height: 32px;\n",
              "      padding: 0 0 0 0;\n",
              "      width: 32px;\n",
              "    }\n",
              "\n",
              "    .colab-df-convert:hover {\n",
              "      background-color: #E2EBFA;\n",
              "      box-shadow: 0px 1px 2px rgba(60, 64, 67, 0.3), 0px 1px 3px 1px rgba(60, 64, 67, 0.15);\n",
              "      fill: #174EA6;\n",
              "    }\n",
              "\n",
              "    [theme=dark] .colab-df-convert {\n",
              "      background-color: #3B4455;\n",
              "      fill: #D2E3FC;\n",
              "    }\n",
              "\n",
              "    [theme=dark] .colab-df-convert:hover {\n",
              "      background-color: #434B5C;\n",
              "      box-shadow: 0px 1px 3px 1px rgba(0, 0, 0, 0.15);\n",
              "      filter: drop-shadow(0px 1px 2px rgba(0, 0, 0, 0.3));\n",
              "      fill: #FFFFFF;\n",
              "    }\n",
              "  </style>\n",
              "\n",
              "      <script>\n",
              "        const buttonEl =\n",
              "          document.querySelector('#df-ec4348c8-aab8-47f1-bdf1-d5180d9eeda3 button.colab-df-convert');\n",
              "        buttonEl.style.display =\n",
              "          google.colab.kernel.accessAllowed ? 'block' : 'none';\n",
              "\n",
              "        async function convertToInteractive(key) {\n",
              "          const element = document.querySelector('#df-ec4348c8-aab8-47f1-bdf1-d5180d9eeda3');\n",
              "          const dataTable =\n",
              "            await google.colab.kernel.invokeFunction('convertToInteractive',\n",
              "                                                     [key], {});\n",
              "          if (!dataTable) return;\n",
              "\n",
              "          const docLinkHtml = 'Like what you see? Visit the ' +\n",
              "            '<a target=\"_blank\" href=https://colab.research.google.com/notebooks/data_table.ipynb>data table notebook</a>'\n",
              "            + ' to learn more about interactive tables.';\n",
              "          element.innerHTML = '';\n",
              "          dataTable['output_type'] = 'display_data';\n",
              "          await google.colab.output.renderOutput(dataTable, element);\n",
              "          const docLink = document.createElement('div');\n",
              "          docLink.innerHTML = docLinkHtml;\n",
              "          element.appendChild(docLink);\n",
              "        }\n",
              "      </script>\n",
              "    </div>\n",
              "  </div>\n",
              "  "
            ]
          },
          "metadata": {},
          "execution_count": 27
        }
      ]
    },
    {
      "cell_type": "markdown",
      "source": [
        "Exportando o dataframe"
      ],
      "metadata": {
        "id": "jiNw6JTY73hS"
      }
    },
    {
      "cell_type": "code",
      "source": [
        "df_xbox_360_metacritic.to_csv('df_xbox_360_metacritic.csv', index= False)"
      ],
      "metadata": {
        "id": "LuxRbUtK76Wz"
      },
      "execution_count": 30,
      "outputs": []
    }
  ]
}