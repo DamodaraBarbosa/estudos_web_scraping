{
  "nbformat": 4,
  "nbformat_minor": 0,
  "metadata": {
    "colab": {
      "provenance": [],
      "authorship_tag": "ABX9TyNUADCV53p4vfVkS5tdCh0m",
      "include_colab_link": true
    },
    "kernelspec": {
      "name": "python3",
      "display_name": "Python 3"
    },
    "language_info": {
      "name": "python"
    }
  },
  "cells": [
    {
      "cell_type": "markdown",
      "metadata": {
        "id": "view-in-github",
        "colab_type": "text"
      },
      "source": [
        "<a href=\"https://colab.research.google.com/github/DamodaraBarbosa/estudos_web_scraping/blob/main/Scraping_Xbox_One_Wikipedia.ipynb\" target=\"_parent\"><img src=\"https://colab.research.google.com/assets/colab-badge.svg\" alt=\"Open In Colab\"/></a>"
      ]
    },
    {
      "cell_type": "markdown",
      "source": [
        "Importando as bibliotecas"
      ],
      "metadata": {
        "id": "aUnLjxSf3kvx"
      }
    },
    {
      "cell_type": "code",
      "execution_count": 1,
      "metadata": {
        "id": "s1Qr-7to3W1L"
      },
      "outputs": [],
      "source": [
        "from bs4 import BeautifulSoup\n",
        "from urllib.request import urlopen"
      ]
    },
    {
      "cell_type": "code",
      "source": [
        "import pandas as pd"
      ],
      "metadata": {
        "id": "s2lp2rUQGNcD"
      },
      "execution_count": 2,
      "outputs": []
    },
    {
      "cell_type": "markdown",
      "source": [
        "## Jogos de Xbox One de A-L"
      ],
      "metadata": {
        "id": "7PUmFF8l3u5E"
      }
    },
    {
      "cell_type": "code",
      "source": [
        "response = urlopen('https://en.wikipedia.org/wiki/List_of_Xbox_One_games_(A%E2%80%93L)')\n",
        "html = response.read().decode('utf-8')\n",
        "soup = BeautifulSoup(html, 'html.parser')"
      ],
      "metadata": {
        "id": "nqCS9cN13j1j"
      },
      "execution_count": 3,
      "outputs": []
    },
    {
      "cell_type": "markdown",
      "source": [
        "Localizando os jogos no html"
      ],
      "metadata": {
        "id": "otk-O4jU5uqx"
      }
    },
    {
      "cell_type": "code",
      "source": [
        "games_AL = soup.find_all('tbody')[1].find_all('tr')"
      ],
      "metadata": {
        "id": "QSK_rIBL4WEF"
      },
      "execution_count": 4,
      "outputs": []
    },
    {
      "cell_type": "markdown",
      "source": [
        "Iniciando a rotina de scraping"
      ],
      "metadata": {
        "id": "eKqBDXjW6CIC"
      }
    },
    {
      "cell_type": "code",
      "source": [
        "xbox_game_AL = dict()\n",
        "xbox_games_AL = list()"
      ],
      "metadata": {
        "id": "3yh3kdFv765e"
      },
      "execution_count": 5,
      "outputs": []
    },
    {
      "cell_type": "code",
      "source": [
        "def def_addons(addons):\n",
        "  for index, addon in enumerate(addons):\n",
        "    if addon in ['\\xa0360\\xa0', '\\xa0NS\\xa0', '\\xa0PC\\xa0']:\n",
        "      addons[index] = 'Cross-play'\n",
        "    if addon == '\\xa0K\\xa0':\n",
        "      addons[index] = 'Kinect optional'\n",
        "    if addon == '\\xa0X\\xa0':\n",
        "      addons[index] = 'XBX Enhanced'\n",
        "    if addon == '\\xa0FPSB\\xa0':\n",
        "      addons[index] = 'FPS Boost'\n",
        "    if addon == '\\xa0PA\\xa0':\n",
        "      addons[index] = 'Play Anywhere'\n",
        "  return addons\n"
      ],
      "metadata": {
        "id": "1JzqZVqM94zy"
      },
      "execution_count": 6,
      "outputs": []
    },
    {
      "cell_type": "code",
      "source": [
        "for game in games_AL:\n",
        "  try:\n",
        "    xbox_game_AL['Name'] = game.find_all('td')[0].get_text()\n",
        "    xbox_game_AL['Genre(s)'] = game.find_all('td')[1].get_text()\n",
        "    xbox_game_AL['Developer(s)'] = game.find_all('td')[2].get_text()\n",
        "    xbox_game_AL['Publisher(s)'] = game.find_all('td')[3].get_text()\n",
        "    xbox_game_AL['Release date'] = game.find_all('td')[5].get_text()\n",
        "    addons = game.find_all('td')[7].find_all('span')\n",
        "    all_addons = list()\n",
        "    for addon in addons:\n",
        "      all_addons.append(addon.get_text())\n",
        "    xbox_game_AL['Addons'] = all_addons\n",
        "  except IndexError:\n",
        "    pass\n",
        "  xbox_games_AL.append(xbox_game_AL.copy())\n"
      ],
      "metadata": {
        "id": "MCxIkH1-5zVr"
      },
      "execution_count": 7,
      "outputs": []
    },
    {
      "cell_type": "code",
      "source": [
        "print(len(xbox_games_AL))"
      ],
      "metadata": {
        "colab": {
          "base_uri": "https://localhost:8080/"
        },
        "id": "G5z2pjm4AfFA",
        "outputId": "1f894917-6ffb-4842-94a6-e68149048d93"
      },
      "execution_count": 8,
      "outputs": [
        {
          "output_type": "stream",
          "name": "stdout",
          "text": [
            "1528\n"
          ]
        }
      ]
    },
    {
      "cell_type": "markdown",
      "source": [
        "Gerando o dataframe dos jogos entre A-L"
      ],
      "metadata": {
        "id": "z3sfThydMorS"
      }
    },
    {
      "cell_type": "code",
      "source": [
        "xbox_AL = pd.DataFrame(xbox_games_AL)"
      ],
      "metadata": {
        "id": "rolyLWH46Gu2"
      },
      "execution_count": 9,
      "outputs": []
    },
    {
      "cell_type": "code",
      "source": [
        "xbox_AL = xbox_AL.drop([0, 1])"
      ],
      "metadata": {
        "id": "KCC4F7ygLI5k"
      },
      "execution_count": 10,
      "outputs": []
    },
    {
      "cell_type": "markdown",
      "source": [
        "Primeiros tratamentos"
      ],
      "metadata": {
        "id": "5RfYChImMqra"
      }
    },
    {
      "cell_type": "code",
      "source": [
        "xbox_AL = xbox_AL.replace(r'\\n', '', regex= True)"
      ],
      "metadata": {
        "id": "6DDJWX-fKIZH"
      },
      "execution_count": 11,
      "outputs": []
    },
    {
      "cell_type": "code",
      "source": [
        "xbox_AL.index = range(xbox_AL.shape[0])"
      ],
      "metadata": {
        "id": "P3vn_6bhLnn7"
      },
      "execution_count": 12,
      "outputs": []
    },
    {
      "cell_type": "code",
      "source": [
        "for index, addons in enumerate(xbox_AL['Addons']):\n",
        "  xbox_AL.at[index, 'Addons'] = def_addons(addons)"
      ],
      "metadata": {
        "id": "VGJGB1v0VLz0"
      },
      "execution_count": 13,
      "outputs": []
    },
    {
      "cell_type": "markdown",
      "source": [
        "## Jogos Xbox One free-to-play de A-L "
      ],
      "metadata": {
        "id": "9DW1kA78MzaD"
      }
    },
    {
      "cell_type": "markdown",
      "source": [
        "Localizando os jogos free-to-play de M-Z no html"
      ],
      "metadata": {
        "id": "NFgUsIPPlH-L"
      }
    },
    {
      "cell_type": "code",
      "source": [
        "f2p_games_AL = soup.find_all('tbody')[2].find_all('tr')"
      ],
      "metadata": {
        "id": "GR0jeh5mMUup"
      },
      "execution_count": 14,
      "outputs": []
    },
    {
      "cell_type": "markdown",
      "source": [
        "Iniciando rotina de scraping"
      ],
      "metadata": {
        "id": "3HFtbKeZM7h-"
      }
    },
    {
      "cell_type": "code",
      "source": [
        "f2p_AL = dict()\n",
        "f2ps_AL = list()"
      ],
      "metadata": {
        "id": "8tCq9EIhNDMg"
      },
      "execution_count": 15,
      "outputs": []
    },
    {
      "cell_type": "code",
      "source": [
        "for game in f2p_games_AL:\n",
        "  try:\n",
        "    f2p_AL['Name'] = game.find_all('td')[0].get_text()\n",
        "    f2p_AL['Genre(s)'] = game.find_all('td')[1].get_text()\n",
        "    f2p_AL['Developer(s)'] = game.find_all('td')[2].get_text()\n",
        "    f2p_AL['Publisher(s)'] = game.find_all('td')[3].get_text()\n",
        "    f2p_AL['Release date'] = game.find_all('td')[5].get_text()\n",
        "    f2p_addon = game.find_all('td')[7].find_all('span')\n",
        "    addons_f2p = list()\n",
        "    for add in f2p_addon:\n",
        "      addons_f2p.append(add.get_text())\n",
        "    f2p_AL['Addons'] = addons_f2p\n",
        "  except IndexError:\n",
        "    pass\n",
        "  f2ps_AL.append(f2p_AL.copy())"
      ],
      "metadata": {
        "id": "jwiEHRelNI-D"
      },
      "execution_count": 16,
      "outputs": []
    },
    {
      "cell_type": "markdown",
      "source": [
        "Gerando o dataframe dos jogos free-to-play de A-L\n"
      ],
      "metadata": {
        "id": "4Xv4DOZPNmOY"
      }
    },
    {
      "cell_type": "code",
      "source": [
        "f2p_AL = pd.DataFrame(f2ps_AL)"
      ],
      "metadata": {
        "id": "6yWLyWV6Njwc"
      },
      "execution_count": 17,
      "outputs": []
    },
    {
      "cell_type": "markdown",
      "source": [
        "Primeiros tratamentos"
      ],
      "metadata": {
        "id": "WCrT57r3N5e-"
      }
    },
    {
      "cell_type": "code",
      "source": [
        "f2p_AL = f2p_AL.drop([0, 1])"
      ],
      "metadata": {
        "id": "PQo-8k5qNvVL"
      },
      "execution_count": 18,
      "outputs": []
    },
    {
      "cell_type": "code",
      "source": [
        "f2p_AL = f2p_AL.replace(r'\\n', '', regex= True)"
      ],
      "metadata": {
        "id": "hhb-mQmUOEsD"
      },
      "execution_count": 19,
      "outputs": []
    },
    {
      "cell_type": "code",
      "source": [
        "f2p_AL.index = range(f2p_AL.shape[0])"
      ],
      "metadata": {
        "id": "D1xhUBNxOVQj"
      },
      "execution_count": 20,
      "outputs": []
    },
    {
      "cell_type": "code",
      "source": [
        "for index, addons in enumerate(f2p_AL['Addons']):\n",
        "  f2p_AL.at[index, 'Addons'] = def_addons(addons)"
      ],
      "metadata": {
        "id": "YdONSAVoe_mq"
      },
      "execution_count": 21,
      "outputs": []
    },
    {
      "cell_type": "code",
      "source": [
        "f2p_AL.head()"
      ],
      "metadata": {
        "colab": {
          "base_uri": "https://localhost:8080/",
          "height": 206
        },
        "id": "vCyjlEJtqiLm",
        "outputId": "3814d9a8-620f-4523-8436-712d10a76fae"
      },
      "execution_count": 22,
      "outputs": [
        {
          "output_type": "execute_result",
          "data": {
            "text/plain": [
              "                              Name         Genre(s)           Developer(s)  \\\n",
              "0                   3on3 FreeStyle           Sports                Joycity   \n",
              "1  A King's Tale: Final Fantasy XV           Action     Empty Clip Studios   \n",
              "2                    Adventure Pop           Puzzle          Tic Toc Games   \n",
              "3                    AirMech Arena  Actionadventure           Carbon Games   \n",
              "4                     Apex Legends    Battle royale  Respawn Entertainment   \n",
              "\n",
              "      Publisher(s)  Release date          Addons  \n",
              "0          Joycity  Aug 29, 2018              []  \n",
              "1      Square Enix  Nov 29, 2016              []  \n",
              "2        505 Games   Feb 7, 2017              []  \n",
              "3          Ubisoft  May 12, 2015              []  \n",
              "4  Electronic Arts   Feb 4, 2019  [XBX Enhanced]  "
            ],
            "text/html": [
              "\n",
              "  <div id=\"df-4352acb0-e4fb-4c69-afdb-49970251c49f\">\n",
              "    <div class=\"colab-df-container\">\n",
              "      <div>\n",
              "<style scoped>\n",
              "    .dataframe tbody tr th:only-of-type {\n",
              "        vertical-align: middle;\n",
              "    }\n",
              "\n",
              "    .dataframe tbody tr th {\n",
              "        vertical-align: top;\n",
              "    }\n",
              "\n",
              "    .dataframe thead th {\n",
              "        text-align: right;\n",
              "    }\n",
              "</style>\n",
              "<table border=\"1\" class=\"dataframe\">\n",
              "  <thead>\n",
              "    <tr style=\"text-align: right;\">\n",
              "      <th></th>\n",
              "      <th>Name</th>\n",
              "      <th>Genre(s)</th>\n",
              "      <th>Developer(s)</th>\n",
              "      <th>Publisher(s)</th>\n",
              "      <th>Release date</th>\n",
              "      <th>Addons</th>\n",
              "    </tr>\n",
              "  </thead>\n",
              "  <tbody>\n",
              "    <tr>\n",
              "      <th>0</th>\n",
              "      <td>3on3 FreeStyle</td>\n",
              "      <td>Sports</td>\n",
              "      <td>Joycity</td>\n",
              "      <td>Joycity</td>\n",
              "      <td>Aug 29, 2018</td>\n",
              "      <td>[]</td>\n",
              "    </tr>\n",
              "    <tr>\n",
              "      <th>1</th>\n",
              "      <td>A King's Tale: Final Fantasy XV</td>\n",
              "      <td>Action</td>\n",
              "      <td>Empty Clip Studios</td>\n",
              "      <td>Square Enix</td>\n",
              "      <td>Nov 29, 2016</td>\n",
              "      <td>[]</td>\n",
              "    </tr>\n",
              "    <tr>\n",
              "      <th>2</th>\n",
              "      <td>Adventure Pop</td>\n",
              "      <td>Puzzle</td>\n",
              "      <td>Tic Toc Games</td>\n",
              "      <td>505 Games</td>\n",
              "      <td>Feb 7, 2017</td>\n",
              "      <td>[]</td>\n",
              "    </tr>\n",
              "    <tr>\n",
              "      <th>3</th>\n",
              "      <td>AirMech Arena</td>\n",
              "      <td>Actionadventure</td>\n",
              "      <td>Carbon Games</td>\n",
              "      <td>Ubisoft</td>\n",
              "      <td>May 12, 2015</td>\n",
              "      <td>[]</td>\n",
              "    </tr>\n",
              "    <tr>\n",
              "      <th>4</th>\n",
              "      <td>Apex Legends</td>\n",
              "      <td>Battle royale</td>\n",
              "      <td>Respawn Entertainment</td>\n",
              "      <td>Electronic Arts</td>\n",
              "      <td>Feb 4, 2019</td>\n",
              "      <td>[XBX Enhanced]</td>\n",
              "    </tr>\n",
              "  </tbody>\n",
              "</table>\n",
              "</div>\n",
              "      <button class=\"colab-df-convert\" onclick=\"convertToInteractive('df-4352acb0-e4fb-4c69-afdb-49970251c49f')\"\n",
              "              title=\"Convert this dataframe to an interactive table.\"\n",
              "              style=\"display:none;\">\n",
              "        \n",
              "  <svg xmlns=\"http://www.w3.org/2000/svg\" height=\"24px\"viewBox=\"0 0 24 24\"\n",
              "       width=\"24px\">\n",
              "    <path d=\"M0 0h24v24H0V0z\" fill=\"none\"/>\n",
              "    <path d=\"M18.56 5.44l.94 2.06.94-2.06 2.06-.94-2.06-.94-.94-2.06-.94 2.06-2.06.94zm-11 1L8.5 8.5l.94-2.06 2.06-.94-2.06-.94L8.5 2.5l-.94 2.06-2.06.94zm10 10l.94 2.06.94-2.06 2.06-.94-2.06-.94-.94-2.06-.94 2.06-2.06.94z\"/><path d=\"M17.41 7.96l-1.37-1.37c-.4-.4-.92-.59-1.43-.59-.52 0-1.04.2-1.43.59L10.3 9.45l-7.72 7.72c-.78.78-.78 2.05 0 2.83L4 21.41c.39.39.9.59 1.41.59.51 0 1.02-.2 1.41-.59l7.78-7.78 2.81-2.81c.8-.78.8-2.07 0-2.86zM5.41 20L4 18.59l7.72-7.72 1.47 1.35L5.41 20z\"/>\n",
              "  </svg>\n",
              "      </button>\n",
              "      \n",
              "  <style>\n",
              "    .colab-df-container {\n",
              "      display:flex;\n",
              "      flex-wrap:wrap;\n",
              "      gap: 12px;\n",
              "    }\n",
              "\n",
              "    .colab-df-convert {\n",
              "      background-color: #E8F0FE;\n",
              "      border: none;\n",
              "      border-radius: 50%;\n",
              "      cursor: pointer;\n",
              "      display: none;\n",
              "      fill: #1967D2;\n",
              "      height: 32px;\n",
              "      padding: 0 0 0 0;\n",
              "      width: 32px;\n",
              "    }\n",
              "\n",
              "    .colab-df-convert:hover {\n",
              "      background-color: #E2EBFA;\n",
              "      box-shadow: 0px 1px 2px rgba(60, 64, 67, 0.3), 0px 1px 3px 1px rgba(60, 64, 67, 0.15);\n",
              "      fill: #174EA6;\n",
              "    }\n",
              "\n",
              "    [theme=dark] .colab-df-convert {\n",
              "      background-color: #3B4455;\n",
              "      fill: #D2E3FC;\n",
              "    }\n",
              "\n",
              "    [theme=dark] .colab-df-convert:hover {\n",
              "      background-color: #434B5C;\n",
              "      box-shadow: 0px 1px 3px 1px rgba(0, 0, 0, 0.15);\n",
              "      filter: drop-shadow(0px 1px 2px rgba(0, 0, 0, 0.3));\n",
              "      fill: #FFFFFF;\n",
              "    }\n",
              "  </style>\n",
              "\n",
              "      <script>\n",
              "        const buttonEl =\n",
              "          document.querySelector('#df-4352acb0-e4fb-4c69-afdb-49970251c49f button.colab-df-convert');\n",
              "        buttonEl.style.display =\n",
              "          google.colab.kernel.accessAllowed ? 'block' : 'none';\n",
              "\n",
              "        async function convertToInteractive(key) {\n",
              "          const element = document.querySelector('#df-4352acb0-e4fb-4c69-afdb-49970251c49f');\n",
              "          const dataTable =\n",
              "            await google.colab.kernel.invokeFunction('convertToInteractive',\n",
              "                                                     [key], {});\n",
              "          if (!dataTable) return;\n",
              "\n",
              "          const docLinkHtml = 'Like what you see? Visit the ' +\n",
              "            '<a target=\"_blank\" href=https://colab.research.google.com/notebooks/data_table.ipynb>data table notebook</a>'\n",
              "            + ' to learn more about interactive tables.';\n",
              "          element.innerHTML = '';\n",
              "          dataTable['output_type'] = 'display_data';\n",
              "          await google.colab.output.renderOutput(dataTable, element);\n",
              "          const docLink = document.createElement('div');\n",
              "          docLink.innerHTML = docLinkHtml;\n",
              "          element.appendChild(docLink);\n",
              "        }\n",
              "      </script>\n",
              "    </div>\n",
              "  </div>\n",
              "  "
            ]
          },
          "metadata": {},
          "execution_count": 22
        }
      ]
    },
    {
      "cell_type": "markdown",
      "source": [
        "## Jogos Xbox One de M-Z\n"
      ],
      "metadata": {
        "id": "MDyafDoQUpMH"
      }
    },
    {
      "cell_type": "code",
      "source": [
        "resp = urlopen('https://en.wikipedia.org/wiki/List_of_Xbox_One_games_(M%E2%80%93Z)')\n",
        "html2 = resp.read().decode('utf-8')\n",
        "soup2 = BeautifulSoup(html2, 'html.parser')"
      ],
      "metadata": {
        "id": "tls4sF6qObl1"
      },
      "execution_count": 23,
      "outputs": []
    },
    {
      "cell_type": "markdown",
      "source": [
        "Localizando os jogos no html"
      ],
      "metadata": {
        "id": "BaV3is2nlLs5"
      }
    },
    {
      "cell_type": "code",
      "source": [
        "games_MZ = soup2.find_all('tbody')[1].find_all('tr')"
      ],
      "metadata": {
        "id": "fkoakWODlNR6"
      },
      "execution_count": 24,
      "outputs": []
    },
    {
      "cell_type": "markdown",
      "source": [
        "Iniciando rotina de scraping"
      ],
      "metadata": {
        "id": "4_GtowE8lVPZ"
      }
    },
    {
      "cell_type": "code",
      "source": [
        "xbox_game_MZ = dict()\n",
        "xbox_games_MZ = list()"
      ],
      "metadata": {
        "id": "Z2JqoyGYlUQ4"
      },
      "execution_count": 25,
      "outputs": []
    },
    {
      "cell_type": "code",
      "source": [
        "for game_MZ in games_MZ:\n",
        "  try:\n",
        "    xbox_game_MZ['Name'] = game_MZ.find_all('td')[0].get_text()\n",
        "    xbox_game_MZ['Genre(s)'] = game_MZ.find_all('td')[1].get_text()\n",
        "    xbox_game_MZ['Developer(s)'] = game_MZ.find_all('td')[2].get_text()\n",
        "    xbox_game_MZ['Publisher(s)'] = game_MZ.find_all('td')[3].get_text()\n",
        "    xbox_game_MZ['Release date'] = game_MZ.find_all('td')[5].get_text()\n",
        "    addons_MZ = game_MZ.find_all('td')[7].find_all('span')\n",
        "    all_addons_MZ = list()\n",
        "    for addon_MZ in addons_MZ:\n",
        "      all_addons_MZ.append(addon_MZ.get_text())\n",
        "    xbox_game_MZ['Addons'] = all_addons_MZ\n",
        "  except IndexError:\n",
        "    pass\n",
        "  xbox_games_MZ.append(xbox_game_MZ.copy())"
      ],
      "metadata": {
        "id": "RTDRHn7Pmq-D"
      },
      "execution_count": 26,
      "outputs": []
    },
    {
      "cell_type": "code",
      "source": [
        "len(xbox_games_MZ)"
      ],
      "metadata": {
        "colab": {
          "base_uri": "https://localhost:8080/"
        },
        "id": "DriSzhQnmzTX",
        "outputId": "fccd9fc2-8982-4c0b-dafb-6e64388f7ca9"
      },
      "execution_count": 27,
      "outputs": [
        {
          "output_type": "execute_result",
          "data": {
            "text/plain": [
              "1381"
            ]
          },
          "metadata": {},
          "execution_count": 27
        }
      ]
    },
    {
      "cell_type": "markdown",
      "source": [
        "Gerando o dataframe dos jogos entre M-Z"
      ],
      "metadata": {
        "id": "8mUk8bzom6Kd"
      }
    },
    {
      "cell_type": "code",
      "source": [
        "xbox_MZ = pd.DataFrame(xbox_games_MZ)\n"
      ],
      "metadata": {
        "id": "X08R17yPm1Bb"
      },
      "execution_count": 28,
      "outputs": []
    },
    {
      "cell_type": "markdown",
      "source": [
        "Primeiros tratamentos"
      ],
      "metadata": {
        "id": "KchbFYgzoHf2"
      }
    },
    {
      "cell_type": "code",
      "source": [
        "xbox_MZ = xbox_MZ.drop([0, 1])"
      ],
      "metadata": {
        "id": "G6-H-GA8m4UL"
      },
      "execution_count": 29,
      "outputs": []
    },
    {
      "cell_type": "code",
      "source": [
        "xbox_MZ = xbox_MZ.replace(r'\\n', '', regex= True)"
      ],
      "metadata": {
        "id": "-4i4xaDboJ3h"
      },
      "execution_count": 30,
      "outputs": []
    },
    {
      "cell_type": "code",
      "source": [
        "xbox_MZ.index = range(xbox_MZ.shape[0])"
      ],
      "metadata": {
        "id": "NislQq7Joixc"
      },
      "execution_count": 31,
      "outputs": []
    },
    {
      "cell_type": "code",
      "source": [
        "for index, addon in enumerate(xbox_MZ['Addons']):\n",
        "  xbox_MZ.at[index, 'Addons'] = def_addons(addon)"
      ],
      "metadata": {
        "id": "rSZ0-1Egoc9T"
      },
      "execution_count": 32,
      "outputs": []
    },
    {
      "cell_type": "code",
      "source": [
        "xbox_MZ.head()"
      ],
      "metadata": {
        "colab": {
          "base_uri": "https://localhost:8080/",
          "height": 206
        },
        "id": "MVsh_oiEsNw8",
        "outputId": "196db624-d486-4f26-9515-520a6463af64"
      },
      "execution_count": 33,
      "outputs": [
        {
          "output_type": "execute_result",
          "data": {
            "text/plain": [
              "                Name            Genre(s)             Developer(s)  \\\n",
              "0   Mable & the Wood        Metroidvania           Graffiti Games   \n",
              "1        Machinarium           Adventure           Amanita Design   \n",
              "2   Mad Games Tycoon  Strategysimulation  Eggcode, Raylight Games   \n",
              "3      Madden NFL 15              Sports               EA Tiburon   \n",
              "4      Madden NFL 16              Sports               EA Tiburon   \n",
              "\n",
              "          Publisher(s)  Release date Addons  \n",
              "0         Triplevision  Sep 18, 2019     []  \n",
              "1       Amanita Design  Apr 16, 2020     []  \n",
              "2  Toplitz Productions  Nov 12, 2019     []  \n",
              "3      Electronic Arts  Aug 26, 2014     []  \n",
              "4      Electronic Arts  Aug 25, 2015     []  "
            ],
            "text/html": [
              "\n",
              "  <div id=\"df-04062e2a-dfbd-4ae3-bf19-d9bc6b571ad0\">\n",
              "    <div class=\"colab-df-container\">\n",
              "      <div>\n",
              "<style scoped>\n",
              "    .dataframe tbody tr th:only-of-type {\n",
              "        vertical-align: middle;\n",
              "    }\n",
              "\n",
              "    .dataframe tbody tr th {\n",
              "        vertical-align: top;\n",
              "    }\n",
              "\n",
              "    .dataframe thead th {\n",
              "        text-align: right;\n",
              "    }\n",
              "</style>\n",
              "<table border=\"1\" class=\"dataframe\">\n",
              "  <thead>\n",
              "    <tr style=\"text-align: right;\">\n",
              "      <th></th>\n",
              "      <th>Name</th>\n",
              "      <th>Genre(s)</th>\n",
              "      <th>Developer(s)</th>\n",
              "      <th>Publisher(s)</th>\n",
              "      <th>Release date</th>\n",
              "      <th>Addons</th>\n",
              "    </tr>\n",
              "  </thead>\n",
              "  <tbody>\n",
              "    <tr>\n",
              "      <th>0</th>\n",
              "      <td>Mable &amp; the Wood</td>\n",
              "      <td>Metroidvania</td>\n",
              "      <td>Graffiti Games</td>\n",
              "      <td>Triplevision</td>\n",
              "      <td>Sep 18, 2019</td>\n",
              "      <td>[]</td>\n",
              "    </tr>\n",
              "    <tr>\n",
              "      <th>1</th>\n",
              "      <td>Machinarium</td>\n",
              "      <td>Adventure</td>\n",
              "      <td>Amanita Design</td>\n",
              "      <td>Amanita Design</td>\n",
              "      <td>Apr 16, 2020</td>\n",
              "      <td>[]</td>\n",
              "    </tr>\n",
              "    <tr>\n",
              "      <th>2</th>\n",
              "      <td>Mad Games Tycoon</td>\n",
              "      <td>Strategysimulation</td>\n",
              "      <td>Eggcode, Raylight Games</td>\n",
              "      <td>Toplitz Productions</td>\n",
              "      <td>Nov 12, 2019</td>\n",
              "      <td>[]</td>\n",
              "    </tr>\n",
              "    <tr>\n",
              "      <th>3</th>\n",
              "      <td>Madden NFL 15</td>\n",
              "      <td>Sports</td>\n",
              "      <td>EA Tiburon</td>\n",
              "      <td>Electronic Arts</td>\n",
              "      <td>Aug 26, 2014</td>\n",
              "      <td>[]</td>\n",
              "    </tr>\n",
              "    <tr>\n",
              "      <th>4</th>\n",
              "      <td>Madden NFL 16</td>\n",
              "      <td>Sports</td>\n",
              "      <td>EA Tiburon</td>\n",
              "      <td>Electronic Arts</td>\n",
              "      <td>Aug 25, 2015</td>\n",
              "      <td>[]</td>\n",
              "    </tr>\n",
              "  </tbody>\n",
              "</table>\n",
              "</div>\n",
              "      <button class=\"colab-df-convert\" onclick=\"convertToInteractive('df-04062e2a-dfbd-4ae3-bf19-d9bc6b571ad0')\"\n",
              "              title=\"Convert this dataframe to an interactive table.\"\n",
              "              style=\"display:none;\">\n",
              "        \n",
              "  <svg xmlns=\"http://www.w3.org/2000/svg\" height=\"24px\"viewBox=\"0 0 24 24\"\n",
              "       width=\"24px\">\n",
              "    <path d=\"M0 0h24v24H0V0z\" fill=\"none\"/>\n",
              "    <path d=\"M18.56 5.44l.94 2.06.94-2.06 2.06-.94-2.06-.94-.94-2.06-.94 2.06-2.06.94zm-11 1L8.5 8.5l.94-2.06 2.06-.94-2.06-.94L8.5 2.5l-.94 2.06-2.06.94zm10 10l.94 2.06.94-2.06 2.06-.94-2.06-.94-.94-2.06-.94 2.06-2.06.94z\"/><path d=\"M17.41 7.96l-1.37-1.37c-.4-.4-.92-.59-1.43-.59-.52 0-1.04.2-1.43.59L10.3 9.45l-7.72 7.72c-.78.78-.78 2.05 0 2.83L4 21.41c.39.39.9.59 1.41.59.51 0 1.02-.2 1.41-.59l7.78-7.78 2.81-2.81c.8-.78.8-2.07 0-2.86zM5.41 20L4 18.59l7.72-7.72 1.47 1.35L5.41 20z\"/>\n",
              "  </svg>\n",
              "      </button>\n",
              "      \n",
              "  <style>\n",
              "    .colab-df-container {\n",
              "      display:flex;\n",
              "      flex-wrap:wrap;\n",
              "      gap: 12px;\n",
              "    }\n",
              "\n",
              "    .colab-df-convert {\n",
              "      background-color: #E8F0FE;\n",
              "      border: none;\n",
              "      border-radius: 50%;\n",
              "      cursor: pointer;\n",
              "      display: none;\n",
              "      fill: #1967D2;\n",
              "      height: 32px;\n",
              "      padding: 0 0 0 0;\n",
              "      width: 32px;\n",
              "    }\n",
              "\n",
              "    .colab-df-convert:hover {\n",
              "      background-color: #E2EBFA;\n",
              "      box-shadow: 0px 1px 2px rgba(60, 64, 67, 0.3), 0px 1px 3px 1px rgba(60, 64, 67, 0.15);\n",
              "      fill: #174EA6;\n",
              "    }\n",
              "\n",
              "    [theme=dark] .colab-df-convert {\n",
              "      background-color: #3B4455;\n",
              "      fill: #D2E3FC;\n",
              "    }\n",
              "\n",
              "    [theme=dark] .colab-df-convert:hover {\n",
              "      background-color: #434B5C;\n",
              "      box-shadow: 0px 1px 3px 1px rgba(0, 0, 0, 0.15);\n",
              "      filter: drop-shadow(0px 1px 2px rgba(0, 0, 0, 0.3));\n",
              "      fill: #FFFFFF;\n",
              "    }\n",
              "  </style>\n",
              "\n",
              "      <script>\n",
              "        const buttonEl =\n",
              "          document.querySelector('#df-04062e2a-dfbd-4ae3-bf19-d9bc6b571ad0 button.colab-df-convert');\n",
              "        buttonEl.style.display =\n",
              "          google.colab.kernel.accessAllowed ? 'block' : 'none';\n",
              "\n",
              "        async function convertToInteractive(key) {\n",
              "          const element = document.querySelector('#df-04062e2a-dfbd-4ae3-bf19-d9bc6b571ad0');\n",
              "          const dataTable =\n",
              "            await google.colab.kernel.invokeFunction('convertToInteractive',\n",
              "                                                     [key], {});\n",
              "          if (!dataTable) return;\n",
              "\n",
              "          const docLinkHtml = 'Like what you see? Visit the ' +\n",
              "            '<a target=\"_blank\" href=https://colab.research.google.com/notebooks/data_table.ipynb>data table notebook</a>'\n",
              "            + ' to learn more about interactive tables.';\n",
              "          element.innerHTML = '';\n",
              "          dataTable['output_type'] = 'display_data';\n",
              "          await google.colab.output.renderOutput(dataTable, element);\n",
              "          const docLink = document.createElement('div');\n",
              "          docLink.innerHTML = docLinkHtml;\n",
              "          element.appendChild(docLink);\n",
              "        }\n",
              "      </script>\n",
              "    </div>\n",
              "  </div>\n",
              "  "
            ]
          },
          "metadata": {},
          "execution_count": 33
        }
      ]
    },
    {
      "cell_type": "markdown",
      "source": [
        "## Jogos Xbox One free-to-play de M-Z"
      ],
      "metadata": {
        "id": "_7-zx9Y-s4Pz"
      }
    },
    {
      "cell_type": "markdown",
      "source": [
        "Localizando jogos free-to-play de M-Z no html"
      ],
      "metadata": {
        "id": "7nWfptSwuHfS"
      }
    },
    {
      "cell_type": "code",
      "source": [
        "f2p_games_MZ = soup2.find_all('tbody')[2].find_all('tr')"
      ],
      "metadata": {
        "id": "e73sGHSisPKt"
      },
      "execution_count": 34,
      "outputs": []
    },
    {
      "cell_type": "markdown",
      "source": [
        "Iniciando rota de scraping"
      ],
      "metadata": {
        "id": "eynR3M6puOqs"
      }
    },
    {
      "cell_type": "code",
      "source": [
        "f2p_MZ = dict()\n",
        "f2ps_MZ = list()"
      ],
      "metadata": {
        "id": "2Qdj8ej7uN_d"
      },
      "execution_count": 35,
      "outputs": []
    },
    {
      "cell_type": "code",
      "source": [
        "for game in f2p_games_MZ:\n",
        "  try:\n",
        "    f2p_MZ['Name'] = game.find_all('td')[0].get_text()\n",
        "    f2p_MZ['Genre(s)'] = game.find_all('td')[1].get_text()\n",
        "    f2p_MZ['Developer(s)'] = game.find_all('td')[2].get_text()\n",
        "    f2p_MZ['Publisher(s)'] = game.find_all('td')[3].get_text()\n",
        "    f2p_MZ['Release date'] = game.find_all('td')[5].get_text()\n",
        "    f2p_addon = game.find_all('td')[7].find_all('span')\n",
        "    addons_f2p = list()\n",
        "    for add in f2p_addon:\n",
        "      addons_f2p.append(add.get_text())\n",
        "    f2p_MZ['Addons'] = addons_f2p\n",
        "  except IndexError:\n",
        "    pass\n",
        "  f2ps_MZ.append(f2p_MZ.copy())"
      ],
      "metadata": {
        "id": "dimCpHp1uehu"
      },
      "execution_count": 36,
      "outputs": []
    },
    {
      "cell_type": "code",
      "source": [
        "len(f2ps_MZ)"
      ],
      "metadata": {
        "colab": {
          "base_uri": "https://localhost:8080/"
        },
        "id": "k7Zey1SvuwRf",
        "outputId": "a918c9ab-6d77-4f53-d297-a66d6023a483"
      },
      "execution_count": 37,
      "outputs": [
        {
          "output_type": "execute_result",
          "data": {
            "text/plain": [
              "39"
            ]
          },
          "metadata": {},
          "execution_count": 37
        }
      ]
    },
    {
      "cell_type": "markdown",
      "source": [
        "Gerando o dataframe dos jogos free-to-play de M-Z"
      ],
      "metadata": {
        "id": "_k50G4OFvfbI"
      }
    },
    {
      "cell_type": "code",
      "source": [
        "f2p_MZ = pd.DataFrame(f2ps_MZ)"
      ],
      "metadata": {
        "id": "J1z9zMb-uzKW"
      },
      "execution_count": 38,
      "outputs": []
    },
    {
      "cell_type": "markdown",
      "source": [
        "Primeiros tratamentos"
      ],
      "metadata": {
        "id": "fmKzDPuwv1nb"
      }
    },
    {
      "cell_type": "code",
      "source": [
        "f2p_MZ = f2p_MZ.drop([0, 1])"
      ],
      "metadata": {
        "id": "aaSeKgTpv0h8"
      },
      "execution_count": 39,
      "outputs": []
    },
    {
      "cell_type": "code",
      "source": [
        "f2p_MZ = f2p_MZ.replace(r'\\n', '', regex= True)"
      ],
      "metadata": {
        "id": "UQUkaF89wN-_"
      },
      "execution_count": 40,
      "outputs": []
    },
    {
      "cell_type": "code",
      "source": [
        "f2p_MZ.index = range(f2p_MZ.shape[0])"
      ],
      "metadata": {
        "id": "1pRx2c80wYJl"
      },
      "execution_count": 41,
      "outputs": []
    },
    {
      "cell_type": "code",
      "source": [
        "for index, addon in enumerate(f2p_MZ['Addons']):\n",
        "  f2p_MZ.at[index, 'Addons'] = def_addons(addon)"
      ],
      "metadata": {
        "id": "-hpFvd-4wgUK"
      },
      "execution_count": 42,
      "outputs": []
    },
    {
      "cell_type": "markdown",
      "source": [
        "## Concatenando os dataframes"
      ],
      "metadata": {
        "id": "G2SH06FPw4cv"
      }
    },
    {
      "cell_type": "code",
      "source": [
        "all_xbox_games = pd.concat([xbox_AL, xbox_MZ, f2p_AL, f2p_MZ], ignore_index= True)"
      ],
      "metadata": {
        "id": "z97y88gbw7RE"
      },
      "execution_count": 43,
      "outputs": []
    },
    {
      "cell_type": "code",
      "source": [
        "all_xbox_games"
      ],
      "metadata": {
        "colab": {
          "base_uri": "https://localhost:8080/",
          "height": 554
        },
        "id": "WmZgZkCwxZm-",
        "outputId": "11d5d844-c76a-4ee9-d888-879c531e8521"
      },
      "execution_count": 44,
      "outputs": [
        {
          "output_type": "execute_result",
          "data": {
            "text/plain": [
              "                                  Name  \\\n",
              "0                      #killallzombies   \n",
              "1                             #Funtime   \n",
              "2                        #SinucaAttack   \n",
              "3                            #Wargames   \n",
              "4                  'n Verlore Verstand   \n",
              "...                                ...   \n",
              "2976                          Warframe   \n",
              "2977                          Weakless   \n",
              "2978  World of Tanks: Xbox One Edition   \n",
              "2979        World of Warships: Legends   \n",
              "2980                  Zaccaria Pinball   \n",
              "\n",
              "                                          Genre(s)      Developer(s)  \\\n",
              "0                                          Shooter       Beatshapers   \n",
              "1                                                                      \n",
              "2                                                                      \n",
              "3                                Interactive movie               Eko   \n",
              "4                                           Horror   Skobbejak Games   \n",
              "...                                            ...               ...   \n",
              "2976          Third-person shooter, hack and slash  Digital Extremes   \n",
              "2977                                     Adventure       Punk Notion   \n",
              "2978  Vehicular combatmassively multiplayer online         Wargaming   \n",
              "2979              Vehicular combatNaval simulation         Wargaming   \n",
              "2980                               Arcade, pinball       Magic Pixel   \n",
              "\n",
              "          Publisher(s)  Release date           Addons  \n",
              "0             Digerati  Oct 27, 2018               []  \n",
              "1                                                  []  \n",
              "2                                                  []  \n",
              "3                  Eko  Jul 31, 2018  [Play Anywhere]  \n",
              "4      Skobbejak Games  Apr 21, 2017               []  \n",
              "...                ...           ...              ...  \n",
              "2976  Digital Extremes   Sep 2, 2014               []  \n",
              "2977       Punk Notion  Dec 12, 2019               []  \n",
              "2978         Wargaming  Jul 28, 2015     [Cross-play]  \n",
              "2979         Wargaming  Apr 16, 2019               []  \n",
              "2980       Magic Pixel   Apr 3, 2019               []  \n",
              "\n",
              "[2981 rows x 6 columns]"
            ],
            "text/html": [
              "\n",
              "  <div id=\"df-9964f14b-8784-43a7-bdb1-6ecb66aeb7ce\">\n",
              "    <div class=\"colab-df-container\">\n",
              "      <div>\n",
              "<style scoped>\n",
              "    .dataframe tbody tr th:only-of-type {\n",
              "        vertical-align: middle;\n",
              "    }\n",
              "\n",
              "    .dataframe tbody tr th {\n",
              "        vertical-align: top;\n",
              "    }\n",
              "\n",
              "    .dataframe thead th {\n",
              "        text-align: right;\n",
              "    }\n",
              "</style>\n",
              "<table border=\"1\" class=\"dataframe\">\n",
              "  <thead>\n",
              "    <tr style=\"text-align: right;\">\n",
              "      <th></th>\n",
              "      <th>Name</th>\n",
              "      <th>Genre(s)</th>\n",
              "      <th>Developer(s)</th>\n",
              "      <th>Publisher(s)</th>\n",
              "      <th>Release date</th>\n",
              "      <th>Addons</th>\n",
              "    </tr>\n",
              "  </thead>\n",
              "  <tbody>\n",
              "    <tr>\n",
              "      <th>0</th>\n",
              "      <td>#killallzombies</td>\n",
              "      <td>Shooter</td>\n",
              "      <td>Beatshapers</td>\n",
              "      <td>Digerati</td>\n",
              "      <td>Oct 27, 2018</td>\n",
              "      <td>[]</td>\n",
              "    </tr>\n",
              "    <tr>\n",
              "      <th>1</th>\n",
              "      <td>#Funtime</td>\n",
              "      <td></td>\n",
              "      <td></td>\n",
              "      <td></td>\n",
              "      <td></td>\n",
              "      <td>[]</td>\n",
              "    </tr>\n",
              "    <tr>\n",
              "      <th>2</th>\n",
              "      <td>#SinucaAttack</td>\n",
              "      <td></td>\n",
              "      <td></td>\n",
              "      <td></td>\n",
              "      <td></td>\n",
              "      <td>[]</td>\n",
              "    </tr>\n",
              "    <tr>\n",
              "      <th>3</th>\n",
              "      <td>#Wargames</td>\n",
              "      <td>Interactive movie</td>\n",
              "      <td>Eko</td>\n",
              "      <td>Eko</td>\n",
              "      <td>Jul 31, 2018</td>\n",
              "      <td>[Play Anywhere]</td>\n",
              "    </tr>\n",
              "    <tr>\n",
              "      <th>4</th>\n",
              "      <td>'n Verlore Verstand</td>\n",
              "      <td>Horror</td>\n",
              "      <td>Skobbejak Games</td>\n",
              "      <td>Skobbejak Games</td>\n",
              "      <td>Apr 21, 2017</td>\n",
              "      <td>[]</td>\n",
              "    </tr>\n",
              "    <tr>\n",
              "      <th>...</th>\n",
              "      <td>...</td>\n",
              "      <td>...</td>\n",
              "      <td>...</td>\n",
              "      <td>...</td>\n",
              "      <td>...</td>\n",
              "      <td>...</td>\n",
              "    </tr>\n",
              "    <tr>\n",
              "      <th>2976</th>\n",
              "      <td>Warframe</td>\n",
              "      <td>Third-person shooter, hack and slash</td>\n",
              "      <td>Digital Extremes</td>\n",
              "      <td>Digital Extremes</td>\n",
              "      <td>Sep 2, 2014</td>\n",
              "      <td>[]</td>\n",
              "    </tr>\n",
              "    <tr>\n",
              "      <th>2977</th>\n",
              "      <td>Weakless</td>\n",
              "      <td>Adventure</td>\n",
              "      <td>Punk Notion</td>\n",
              "      <td>Punk Notion</td>\n",
              "      <td>Dec 12, 2019</td>\n",
              "      <td>[]</td>\n",
              "    </tr>\n",
              "    <tr>\n",
              "      <th>2978</th>\n",
              "      <td>World of Tanks: Xbox One Edition</td>\n",
              "      <td>Vehicular combatmassively multiplayer online</td>\n",
              "      <td>Wargaming</td>\n",
              "      <td>Wargaming</td>\n",
              "      <td>Jul 28, 2015</td>\n",
              "      <td>[Cross-play]</td>\n",
              "    </tr>\n",
              "    <tr>\n",
              "      <th>2979</th>\n",
              "      <td>World of Warships: Legends</td>\n",
              "      <td>Vehicular combatNaval simulation</td>\n",
              "      <td>Wargaming</td>\n",
              "      <td>Wargaming</td>\n",
              "      <td>Apr 16, 2019</td>\n",
              "      <td>[]</td>\n",
              "    </tr>\n",
              "    <tr>\n",
              "      <th>2980</th>\n",
              "      <td>Zaccaria Pinball</td>\n",
              "      <td>Arcade, pinball</td>\n",
              "      <td>Magic Pixel</td>\n",
              "      <td>Magic Pixel</td>\n",
              "      <td>Apr 3, 2019</td>\n",
              "      <td>[]</td>\n",
              "    </tr>\n",
              "  </tbody>\n",
              "</table>\n",
              "<p>2981 rows × 6 columns</p>\n",
              "</div>\n",
              "      <button class=\"colab-df-convert\" onclick=\"convertToInteractive('df-9964f14b-8784-43a7-bdb1-6ecb66aeb7ce')\"\n",
              "              title=\"Convert this dataframe to an interactive table.\"\n",
              "              style=\"display:none;\">\n",
              "        \n",
              "  <svg xmlns=\"http://www.w3.org/2000/svg\" height=\"24px\"viewBox=\"0 0 24 24\"\n",
              "       width=\"24px\">\n",
              "    <path d=\"M0 0h24v24H0V0z\" fill=\"none\"/>\n",
              "    <path d=\"M18.56 5.44l.94 2.06.94-2.06 2.06-.94-2.06-.94-.94-2.06-.94 2.06-2.06.94zm-11 1L8.5 8.5l.94-2.06 2.06-.94-2.06-.94L8.5 2.5l-.94 2.06-2.06.94zm10 10l.94 2.06.94-2.06 2.06-.94-2.06-.94-.94-2.06-.94 2.06-2.06.94z\"/><path d=\"M17.41 7.96l-1.37-1.37c-.4-.4-.92-.59-1.43-.59-.52 0-1.04.2-1.43.59L10.3 9.45l-7.72 7.72c-.78.78-.78 2.05 0 2.83L4 21.41c.39.39.9.59 1.41.59.51 0 1.02-.2 1.41-.59l7.78-7.78 2.81-2.81c.8-.78.8-2.07 0-2.86zM5.41 20L4 18.59l7.72-7.72 1.47 1.35L5.41 20z\"/>\n",
              "  </svg>\n",
              "      </button>\n",
              "      \n",
              "  <style>\n",
              "    .colab-df-container {\n",
              "      display:flex;\n",
              "      flex-wrap:wrap;\n",
              "      gap: 12px;\n",
              "    }\n",
              "\n",
              "    .colab-df-convert {\n",
              "      background-color: #E8F0FE;\n",
              "      border: none;\n",
              "      border-radius: 50%;\n",
              "      cursor: pointer;\n",
              "      display: none;\n",
              "      fill: #1967D2;\n",
              "      height: 32px;\n",
              "      padding: 0 0 0 0;\n",
              "      width: 32px;\n",
              "    }\n",
              "\n",
              "    .colab-df-convert:hover {\n",
              "      background-color: #E2EBFA;\n",
              "      box-shadow: 0px 1px 2px rgba(60, 64, 67, 0.3), 0px 1px 3px 1px rgba(60, 64, 67, 0.15);\n",
              "      fill: #174EA6;\n",
              "    }\n",
              "\n",
              "    [theme=dark] .colab-df-convert {\n",
              "      background-color: #3B4455;\n",
              "      fill: #D2E3FC;\n",
              "    }\n",
              "\n",
              "    [theme=dark] .colab-df-convert:hover {\n",
              "      background-color: #434B5C;\n",
              "      box-shadow: 0px 1px 3px 1px rgba(0, 0, 0, 0.15);\n",
              "      filter: drop-shadow(0px 1px 2px rgba(0, 0, 0, 0.3));\n",
              "      fill: #FFFFFF;\n",
              "    }\n",
              "  </style>\n",
              "\n",
              "      <script>\n",
              "        const buttonEl =\n",
              "          document.querySelector('#df-9964f14b-8784-43a7-bdb1-6ecb66aeb7ce button.colab-df-convert');\n",
              "        buttonEl.style.display =\n",
              "          google.colab.kernel.accessAllowed ? 'block' : 'none';\n",
              "\n",
              "        async function convertToInteractive(key) {\n",
              "          const element = document.querySelector('#df-9964f14b-8784-43a7-bdb1-6ecb66aeb7ce');\n",
              "          const dataTable =\n",
              "            await google.colab.kernel.invokeFunction('convertToInteractive',\n",
              "                                                     [key], {});\n",
              "          if (!dataTable) return;\n",
              "\n",
              "          const docLinkHtml = 'Like what you see? Visit the ' +\n",
              "            '<a target=\"_blank\" href=https://colab.research.google.com/notebooks/data_table.ipynb>data table notebook</a>'\n",
              "            + ' to learn more about interactive tables.';\n",
              "          element.innerHTML = '';\n",
              "          dataTable['output_type'] = 'display_data';\n",
              "          await google.colab.output.renderOutput(dataTable, element);\n",
              "          const docLink = document.createElement('div');\n",
              "          docLink.innerHTML = docLinkHtml;\n",
              "          element.appendChild(docLink);\n",
              "        }\n",
              "      </script>\n",
              "    </div>\n",
              "  </div>\n",
              "  "
            ]
          },
          "metadata": {},
          "execution_count": 44
        }
      ]
    },
    {
      "cell_type": "markdown",
      "source": [
        "## Exportando dataframe completo"
      ],
      "metadata": {
        "id": "kiD61L_gz6pv"
      }
    },
    {
      "cell_type": "code",
      "source": [
        "df_xbox_games = all_xbox_games.to_csv('df_xbox_games.csv', index = False, encoding = 'utf-8-sig')"
      ],
      "metadata": {
        "id": "Z2O0Z5RwyJMu"
      },
      "execution_count": 49,
      "outputs": []
    }
  ]
}