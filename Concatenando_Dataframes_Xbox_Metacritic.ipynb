{
  "nbformat": 4,
  "nbformat_minor": 0,
  "metadata": {
    "colab": {
      "provenance": [],
      "authorship_tag": "ABX9TyP5FnL2YSZQiFZMOfyw8fYC",
      "include_colab_link": true
    },
    "kernelspec": {
      "name": "python3",
      "display_name": "Python 3"
    },
    "language_info": {
      "name": "python"
    }
  },
  "cells": [
    {
      "cell_type": "markdown",
      "metadata": {
        "id": "view-in-github",
        "colab_type": "text"
      },
      "source": [
        "<a href=\"https://colab.research.google.com/github/DamodaraBarbosa/estudos_web_scraping/blob/main/Concatenando_Dataframes_Xbox_Metacritic.ipynb\" target=\"_parent\"><img src=\"https://colab.research.google.com/assets/colab-badge.svg\" alt=\"Open In Colab\"/></a>"
      ]
    },
    {
      "cell_type": "markdown",
      "source": [
        "### Concatenando os Dataframes (XBO e XSX) com notas no Metacritic\n"
      ],
      "metadata": {
        "id": "f2qvFTrDev1s"
      }
    },
    {
      "cell_type": "markdown",
      "source": [
        "Importando as bibliotecas"
      ],
      "metadata": {
        "id": "NNWCszSce8uw"
      }
    },
    {
      "cell_type": "code",
      "execution_count": 1,
      "metadata": {
        "id": "z7R33KMienlQ"
      },
      "outputs": [],
      "source": [
        "import pandas as pd\n",
        "import numpy as np"
      ]
    },
    {
      "cell_type": "markdown",
      "source": [
        "## Definindo os Dataframes"
      ],
      "metadata": {
        "id": "Pibq2NBxfBlL"
      }
    },
    {
      "cell_type": "markdown",
      "source": [
        "Com os dados de jogos do Xbox One"
      ],
      "metadata": {
        "id": "VJ3yAk_dfGsD"
      }
    },
    {
      "cell_type": "code",
      "source": [
        "dt_xbo_metacritic = pd.read_csv('metacritic_xbox_one.csv')"
      ],
      "metadata": {
        "id": "OLJkiMLJfOXs"
      },
      "execution_count": 2,
      "outputs": []
    },
    {
      "cell_type": "code",
      "source": [
        "dt_xbo_metacritic.head()"
      ],
      "metadata": {
        "colab": {
          "base_uri": "https://localhost:8080/",
          "height": 206
        },
        "id": "oeovny76fqZw",
        "outputId": "4868f4d5-73c4-4094-dc18-4d2b659ad879"
      },
      "execution_count": 3,
      "outputs": [
        {
          "output_type": "execute_result",
          "data": {
            "text/plain": [
              "                                        Name       Release date  Metascore  \\\n",
              "0                      Red Dead Redemption 2   October 26, 2018         97   \n",
              "1                         Grand Theft Auto V  November 18, 2014         97   \n",
              "2       Metal Gear Solid V: The Phantom Pain  September 1, 2015         95   \n",
              "3                                    Celeste   January 26, 2018         94   \n",
              "4  The Witcher 3: Wild Hunt - Blood and Wine       May 31, 2016         94   \n",
              "\n",
              "  Userscore  \n",
              "0       8.2  \n",
              "1       7.9  \n",
              "2       7.6  \n",
              "3       7.6  \n",
              "4       8.6  "
            ],
            "text/html": [
              "\n",
              "  <div id=\"df-db8ae95b-c937-41d6-a3e5-61f22b19972b\">\n",
              "    <div class=\"colab-df-container\">\n",
              "      <div>\n",
              "<style scoped>\n",
              "    .dataframe tbody tr th:only-of-type {\n",
              "        vertical-align: middle;\n",
              "    }\n",
              "\n",
              "    .dataframe tbody tr th {\n",
              "        vertical-align: top;\n",
              "    }\n",
              "\n",
              "    .dataframe thead th {\n",
              "        text-align: right;\n",
              "    }\n",
              "</style>\n",
              "<table border=\"1\" class=\"dataframe\">\n",
              "  <thead>\n",
              "    <tr style=\"text-align: right;\">\n",
              "      <th></th>\n",
              "      <th>Name</th>\n",
              "      <th>Release date</th>\n",
              "      <th>Metascore</th>\n",
              "      <th>Userscore</th>\n",
              "    </tr>\n",
              "  </thead>\n",
              "  <tbody>\n",
              "    <tr>\n",
              "      <th>0</th>\n",
              "      <td>Red Dead Redemption 2</td>\n",
              "      <td>October 26, 2018</td>\n",
              "      <td>97</td>\n",
              "      <td>8.2</td>\n",
              "    </tr>\n",
              "    <tr>\n",
              "      <th>1</th>\n",
              "      <td>Grand Theft Auto V</td>\n",
              "      <td>November 18, 2014</td>\n",
              "      <td>97</td>\n",
              "      <td>7.9</td>\n",
              "    </tr>\n",
              "    <tr>\n",
              "      <th>2</th>\n",
              "      <td>Metal Gear Solid V: The Phantom Pain</td>\n",
              "      <td>September 1, 2015</td>\n",
              "      <td>95</td>\n",
              "      <td>7.6</td>\n",
              "    </tr>\n",
              "    <tr>\n",
              "      <th>3</th>\n",
              "      <td>Celeste</td>\n",
              "      <td>January 26, 2018</td>\n",
              "      <td>94</td>\n",
              "      <td>7.6</td>\n",
              "    </tr>\n",
              "    <tr>\n",
              "      <th>4</th>\n",
              "      <td>The Witcher 3: Wild Hunt - Blood and Wine</td>\n",
              "      <td>May 31, 2016</td>\n",
              "      <td>94</td>\n",
              "      <td>8.6</td>\n",
              "    </tr>\n",
              "  </tbody>\n",
              "</table>\n",
              "</div>\n",
              "      <button class=\"colab-df-convert\" onclick=\"convertToInteractive('df-db8ae95b-c937-41d6-a3e5-61f22b19972b')\"\n",
              "              title=\"Convert this dataframe to an interactive table.\"\n",
              "              style=\"display:none;\">\n",
              "        \n",
              "  <svg xmlns=\"http://www.w3.org/2000/svg\" height=\"24px\"viewBox=\"0 0 24 24\"\n",
              "       width=\"24px\">\n",
              "    <path d=\"M0 0h24v24H0V0z\" fill=\"none\"/>\n",
              "    <path d=\"M18.56 5.44l.94 2.06.94-2.06 2.06-.94-2.06-.94-.94-2.06-.94 2.06-2.06.94zm-11 1L8.5 8.5l.94-2.06 2.06-.94-2.06-.94L8.5 2.5l-.94 2.06-2.06.94zm10 10l.94 2.06.94-2.06 2.06-.94-2.06-.94-.94-2.06-.94 2.06-2.06.94z\"/><path d=\"M17.41 7.96l-1.37-1.37c-.4-.4-.92-.59-1.43-.59-.52 0-1.04.2-1.43.59L10.3 9.45l-7.72 7.72c-.78.78-.78 2.05 0 2.83L4 21.41c.39.39.9.59 1.41.59.51 0 1.02-.2 1.41-.59l7.78-7.78 2.81-2.81c.8-.78.8-2.07 0-2.86zM5.41 20L4 18.59l7.72-7.72 1.47 1.35L5.41 20z\"/>\n",
              "  </svg>\n",
              "      </button>\n",
              "      \n",
              "  <style>\n",
              "    .colab-df-container {\n",
              "      display:flex;\n",
              "      flex-wrap:wrap;\n",
              "      gap: 12px;\n",
              "    }\n",
              "\n",
              "    .colab-df-convert {\n",
              "      background-color: #E8F0FE;\n",
              "      border: none;\n",
              "      border-radius: 50%;\n",
              "      cursor: pointer;\n",
              "      display: none;\n",
              "      fill: #1967D2;\n",
              "      height: 32px;\n",
              "      padding: 0 0 0 0;\n",
              "      width: 32px;\n",
              "    }\n",
              "\n",
              "    .colab-df-convert:hover {\n",
              "      background-color: #E2EBFA;\n",
              "      box-shadow: 0px 1px 2px rgba(60, 64, 67, 0.3), 0px 1px 3px 1px rgba(60, 64, 67, 0.15);\n",
              "      fill: #174EA6;\n",
              "    }\n",
              "\n",
              "    [theme=dark] .colab-df-convert {\n",
              "      background-color: #3B4455;\n",
              "      fill: #D2E3FC;\n",
              "    }\n",
              "\n",
              "    [theme=dark] .colab-df-convert:hover {\n",
              "      background-color: #434B5C;\n",
              "      box-shadow: 0px 1px 3px 1px rgba(0, 0, 0, 0.15);\n",
              "      filter: drop-shadow(0px 1px 2px rgba(0, 0, 0, 0.3));\n",
              "      fill: #FFFFFF;\n",
              "    }\n",
              "  </style>\n",
              "\n",
              "      <script>\n",
              "        const buttonEl =\n",
              "          document.querySelector('#df-db8ae95b-c937-41d6-a3e5-61f22b19972b button.colab-df-convert');\n",
              "        buttonEl.style.display =\n",
              "          google.colab.kernel.accessAllowed ? 'block' : 'none';\n",
              "\n",
              "        async function convertToInteractive(key) {\n",
              "          const element = document.querySelector('#df-db8ae95b-c937-41d6-a3e5-61f22b19972b');\n",
              "          const dataTable =\n",
              "            await google.colab.kernel.invokeFunction('convertToInteractive',\n",
              "                                                     [key], {});\n",
              "          if (!dataTable) return;\n",
              "\n",
              "          const docLinkHtml = 'Like what you see? Visit the ' +\n",
              "            '<a target=\"_blank\" href=https://colab.research.google.com/notebooks/data_table.ipynb>data table notebook</a>'\n",
              "            + ' to learn more about interactive tables.';\n",
              "          element.innerHTML = '';\n",
              "          dataTable['output_type'] = 'display_data';\n",
              "          await google.colab.output.renderOutput(dataTable, element);\n",
              "          const docLink = document.createElement('div');\n",
              "          docLink.innerHTML = docLinkHtml;\n",
              "          element.appendChild(docLink);\n",
              "        }\n",
              "      </script>\n",
              "    </div>\n",
              "  </div>\n",
              "  "
            ]
          },
          "metadata": {},
          "execution_count": 3
        }
      ]
    },
    {
      "cell_type": "markdown",
      "source": [
        "Com os dados de jogos do Xbox Series X"
      ],
      "metadata": {
        "id": "3Hk9PWyNfLWF"
      }
    },
    {
      "cell_type": "code",
      "source": [
        "dt_xsx_metacritic = pd.read_csv('metacritic_xseries.csv')"
      ],
      "metadata": {
        "id": "_Gwo3LW_euyD"
      },
      "execution_count": 4,
      "outputs": []
    },
    {
      "cell_type": "code",
      "source": [
        "dt_xsx_metacritic.head()"
      ],
      "metadata": {
        "colab": {
          "base_uri": "https://localhost:8080/",
          "height": 206
        },
        "id": "VF67nulSgBFr",
        "outputId": "bf945d73-3062-4cab-83aa-ba64902bb90f"
      },
      "execution_count": 5,
      "outputs": [
        {
          "output_type": "execute_result",
          "data": {
            "text/plain": [
              "                                Name       Release date  Metascore Userscore\n",
              "0                         Elden Ring  February 25, 2022         96       7.7\n",
              "1                              Hades    August 13, 2021         93       8.6\n",
              "2  The Stanley Parable: Ultra Deluxe     April 27, 2022         93       8.4\n",
              "3                    Forza Horizon 5   November 5, 2021         92       8.2\n",
              "4      Ori and the Will of the Wisps  November 10, 2020         92       8.6"
            ],
            "text/html": [
              "\n",
              "  <div id=\"df-02ef9ac7-ac42-4c42-9a00-594e5c9bf021\">\n",
              "    <div class=\"colab-df-container\">\n",
              "      <div>\n",
              "<style scoped>\n",
              "    .dataframe tbody tr th:only-of-type {\n",
              "        vertical-align: middle;\n",
              "    }\n",
              "\n",
              "    .dataframe tbody tr th {\n",
              "        vertical-align: top;\n",
              "    }\n",
              "\n",
              "    .dataframe thead th {\n",
              "        text-align: right;\n",
              "    }\n",
              "</style>\n",
              "<table border=\"1\" class=\"dataframe\">\n",
              "  <thead>\n",
              "    <tr style=\"text-align: right;\">\n",
              "      <th></th>\n",
              "      <th>Name</th>\n",
              "      <th>Release date</th>\n",
              "      <th>Metascore</th>\n",
              "      <th>Userscore</th>\n",
              "    </tr>\n",
              "  </thead>\n",
              "  <tbody>\n",
              "    <tr>\n",
              "      <th>0</th>\n",
              "      <td>Elden Ring</td>\n",
              "      <td>February 25, 2022</td>\n",
              "      <td>96</td>\n",
              "      <td>7.7</td>\n",
              "    </tr>\n",
              "    <tr>\n",
              "      <th>1</th>\n",
              "      <td>Hades</td>\n",
              "      <td>August 13, 2021</td>\n",
              "      <td>93</td>\n",
              "      <td>8.6</td>\n",
              "    </tr>\n",
              "    <tr>\n",
              "      <th>2</th>\n",
              "      <td>The Stanley Parable: Ultra Deluxe</td>\n",
              "      <td>April 27, 2022</td>\n",
              "      <td>93</td>\n",
              "      <td>8.4</td>\n",
              "    </tr>\n",
              "    <tr>\n",
              "      <th>3</th>\n",
              "      <td>Forza Horizon 5</td>\n",
              "      <td>November 5, 2021</td>\n",
              "      <td>92</td>\n",
              "      <td>8.2</td>\n",
              "    </tr>\n",
              "    <tr>\n",
              "      <th>4</th>\n",
              "      <td>Ori and the Will of the Wisps</td>\n",
              "      <td>November 10, 2020</td>\n",
              "      <td>92</td>\n",
              "      <td>8.6</td>\n",
              "    </tr>\n",
              "  </tbody>\n",
              "</table>\n",
              "</div>\n",
              "      <button class=\"colab-df-convert\" onclick=\"convertToInteractive('df-02ef9ac7-ac42-4c42-9a00-594e5c9bf021')\"\n",
              "              title=\"Convert this dataframe to an interactive table.\"\n",
              "              style=\"display:none;\">\n",
              "        \n",
              "  <svg xmlns=\"http://www.w3.org/2000/svg\" height=\"24px\"viewBox=\"0 0 24 24\"\n",
              "       width=\"24px\">\n",
              "    <path d=\"M0 0h24v24H0V0z\" fill=\"none\"/>\n",
              "    <path d=\"M18.56 5.44l.94 2.06.94-2.06 2.06-.94-2.06-.94-.94-2.06-.94 2.06-2.06.94zm-11 1L8.5 8.5l.94-2.06 2.06-.94-2.06-.94L8.5 2.5l-.94 2.06-2.06.94zm10 10l.94 2.06.94-2.06 2.06-.94-2.06-.94-.94-2.06-.94 2.06-2.06.94z\"/><path d=\"M17.41 7.96l-1.37-1.37c-.4-.4-.92-.59-1.43-.59-.52 0-1.04.2-1.43.59L10.3 9.45l-7.72 7.72c-.78.78-.78 2.05 0 2.83L4 21.41c.39.39.9.59 1.41.59.51 0 1.02-.2 1.41-.59l7.78-7.78 2.81-2.81c.8-.78.8-2.07 0-2.86zM5.41 20L4 18.59l7.72-7.72 1.47 1.35L5.41 20z\"/>\n",
              "  </svg>\n",
              "      </button>\n",
              "      \n",
              "  <style>\n",
              "    .colab-df-container {\n",
              "      display:flex;\n",
              "      flex-wrap:wrap;\n",
              "      gap: 12px;\n",
              "    }\n",
              "\n",
              "    .colab-df-convert {\n",
              "      background-color: #E8F0FE;\n",
              "      border: none;\n",
              "      border-radius: 50%;\n",
              "      cursor: pointer;\n",
              "      display: none;\n",
              "      fill: #1967D2;\n",
              "      height: 32px;\n",
              "      padding: 0 0 0 0;\n",
              "      width: 32px;\n",
              "    }\n",
              "\n",
              "    .colab-df-convert:hover {\n",
              "      background-color: #E2EBFA;\n",
              "      box-shadow: 0px 1px 2px rgba(60, 64, 67, 0.3), 0px 1px 3px 1px rgba(60, 64, 67, 0.15);\n",
              "      fill: #174EA6;\n",
              "    }\n",
              "\n",
              "    [theme=dark] .colab-df-convert {\n",
              "      background-color: #3B4455;\n",
              "      fill: #D2E3FC;\n",
              "    }\n",
              "\n",
              "    [theme=dark] .colab-df-convert:hover {\n",
              "      background-color: #434B5C;\n",
              "      box-shadow: 0px 1px 3px 1px rgba(0, 0, 0, 0.15);\n",
              "      filter: drop-shadow(0px 1px 2px rgba(0, 0, 0, 0.3));\n",
              "      fill: #FFFFFF;\n",
              "    }\n",
              "  </style>\n",
              "\n",
              "      <script>\n",
              "        const buttonEl =\n",
              "          document.querySelector('#df-02ef9ac7-ac42-4c42-9a00-594e5c9bf021 button.colab-df-convert');\n",
              "        buttonEl.style.display =\n",
              "          google.colab.kernel.accessAllowed ? 'block' : 'none';\n",
              "\n",
              "        async function convertToInteractive(key) {\n",
              "          const element = document.querySelector('#df-02ef9ac7-ac42-4c42-9a00-594e5c9bf021');\n",
              "          const dataTable =\n",
              "            await google.colab.kernel.invokeFunction('convertToInteractive',\n",
              "                                                     [key], {});\n",
              "          if (!dataTable) return;\n",
              "\n",
              "          const docLinkHtml = 'Like what you see? Visit the ' +\n",
              "            '<a target=\"_blank\" href=https://colab.research.google.com/notebooks/data_table.ipynb>data table notebook</a>'\n",
              "            + ' to learn more about interactive tables.';\n",
              "          element.innerHTML = '';\n",
              "          dataTable['output_type'] = 'display_data';\n",
              "          await google.colab.output.renderOutput(dataTable, element);\n",
              "          const docLink = document.createElement('div');\n",
              "          docLink.innerHTML = docLinkHtml;\n",
              "          element.appendChild(docLink);\n",
              "        }\n",
              "      </script>\n",
              "    </div>\n",
              "  </div>\n",
              "  "
            ]
          },
          "metadata": {},
          "execution_count": 5
        }
      ]
    },
    {
      "cell_type": "markdown",
      "source": [
        "## Verificação de repetição de um mesmo jogo em ambos os Dataframes"
      ],
      "metadata": {
        "id": "OBqnkufvhPAp"
      }
    },
    {
      "cell_type": "code",
      "source": [
        "# a lista xsx_games contém todos os jogos do Dataframe 'dt_xsx_metacritic'\n",
        "\n",
        "xsx_games = list(dt_xsx_metacritic['Name'])"
      ],
      "metadata": {
        "id": "xZNjP45ugGP2"
      },
      "execution_count": 6,
      "outputs": []
    },
    {
      "cell_type": "code",
      "source": [
        "len(xsx_games)"
      ],
      "metadata": {
        "colab": {
          "base_uri": "https://localhost:8080/"
        },
        "id": "rFbdAfCFhjRx",
        "outputId": "91425ef2-92c2-4ef3-d803-ef28d0aa1305"
      },
      "execution_count": 7,
      "outputs": [
        {
          "output_type": "execute_result",
          "data": {
            "text/plain": [
              "281"
            ]
          },
          "metadata": {},
          "execution_count": 7
        }
      ]
    },
    {
      "cell_type": "code",
      "source": [
        "# o número de jogos na lista coincide com o número de linhas do Dataframe\n",
        "\n",
        "dt_xsx_metacritic.shape[0]"
      ],
      "metadata": {
        "colab": {
          "base_uri": "https://localhost:8080/"
        },
        "id": "2TVBpP3hhrSv",
        "outputId": "2d1adfe2-9fd0-43dc-88fb-c31a7eabfbb6"
      },
      "execution_count": 8,
      "outputs": [
        {
          "output_type": "execute_result",
          "data": {
            "text/plain": [
              "281"
            ]
          },
          "metadata": {},
          "execution_count": 8
        }
      ]
    },
    {
      "cell_type": "code",
      "source": [
        "dt_xsx_metacritic.query('Name == \"Grand Theft Auto V\"')['Metascore']"
      ],
      "metadata": {
        "colab": {
          "base_uri": "https://localhost:8080/"
        },
        "id": "MrRly5dysc6L",
        "outputId": "fcc90601-558f-46eb-a497-b65e5d58eace"
      },
      "execution_count": 9,
      "outputs": [
        {
          "output_type": "execute_result",
          "data": {
            "text/plain": [
              "99    79\n",
              "Name: Metascore, dtype: int64"
            ]
          },
          "metadata": {},
          "execution_count": 9
        }
      ]
    },
    {
      "cell_type": "code",
      "source": [
        "str(dt_xbo_metacritic.query('Name == \"Grand Theft Auto V\"')['Metascore']).split()"
      ],
      "metadata": {
        "colab": {
          "base_uri": "https://localhost:8080/"
        },
        "id": "P_3GlDnjoN6x",
        "outputId": "a1b70026-49b8-4176-fb67-f62dd38acd4f"
      },
      "execution_count": 10,
      "outputs": [
        {
          "output_type": "execute_result",
          "data": {
            "text/plain": [
              "['1', '97', 'Name:', 'Metascore,', 'dtype:', 'int64']"
            ]
          },
          "metadata": {},
          "execution_count": 10
        }
      ]
    },
    {
      "cell_type": "code",
      "source": [
        "# visualizando a diferença entre as notas das diferentes versões\n",
        "# opta-se, também, por manter as notas das versões do XSX, por serem versões mais recentes, no console com melhor\n",
        "# desempenho dos jogos\n",
        "\n",
        "jogos_ambos_dt = list()\n",
        "\n",
        "for jogo in dt_xbo_metacritic['Name']:\n",
        "  if jogo in xsx_games:\n",
        "    metascore_xsx = str(dt_xsx_metacritic.query(f'Name == \"{jogo}\"')['Metascore']).split()\n",
        "    metascore_xbo = str(dt_xbo_metacritic.query(f'Name == \"{jogo}\"')['Metascore']).split()\n",
        "    dt_xbo_metacritic.at[metascore_xbo[0], 'Metascore'] = metascore_xsx[0]\n",
        "\n",
        "    jogos_ambos_dt.append(jogo)\n",
        "\n",
        "    print(f'{jogo} - XSX: {metascore_xsx[1]} | XBO: {metascore_xbo[1]}')"
      ],
      "metadata": {
        "colab": {
          "base_uri": "https://localhost:8080/"
        },
        "id": "3KhxTbPViL6T",
        "outputId": "f9442587-34bf-4b21-e438-abcead15701e"
      },
      "execution_count": 11,
      "outputs": [
        {
          "output_type": "stream",
          "name": "stdout",
          "text": [
            "Grand Theft Auto V - XSX: 79 | XBO: 97\n",
            "Psychonauts 2 - XSX: 87 | XBO: 91.0\n",
            "Ori and the Will of the Wisps - XSX: 92 | XBO: 90.0\n",
            "Yakuza: Like a Dragon - XSX: 83 | XBO: 89.0\n",
            "Tony Hawk's Pro Skater 1 + 2 - XSX: 89 | XBO: 88.0\n",
            "The Forgotten City - XSX: 86 | XBO: 88.0\n",
            "Death's Door - XSX: 87 | XBO: 87.0\n",
            "OlliOlli World - XSX: 85 | XBO: 85.0\n",
            "Planet Coaster: Console Edition - XSX: 84 | XBO: 85.0\n",
            "Tunic - XSX: 85 | XBO: 85.0\n",
            "Gears 5 - XSX: 83 | XBO: 84.0\n",
            "Wreckfest - XSX: 71 | XBO: 83.0\n",
            "Crash Bandicoot 4: It's About Time - XSX: 86 | XBO: 83.0\n",
            "DIRT 5 - XSX: 81 | XBO: 83.0\n",
            "Knockout City - XSX: 82 | XBO: 83.0\n",
            "WRC 9 FIA World Rally Championship - XSX: 78 | XBO: 83.0\n",
            "Gears 5: Hivebusters - XSX: 82 | XBO: 82.0\n",
            "Assassin's Creed Valhalla - XSX: 84 | XBO: 82.0\n",
            "Chernobylite - XSX: 71 | XBO: 82.0\n",
            "Call of the Sea - XSX: 75 | XBO: 81.0\n",
            "Jurassic World Evolution 2 - XSX: 74 | XBO: 81.0\n",
            "Tetris Effect: Connected - XSX: 88 | XBO: 80.0\n",
            "The Artful Escape - XSX: 80 | XBO: 80.0\n",
            "FIFA 21 - XSX: 74 | XBO: 77.0\n",
            "Immortals Fenyx Rising - XSX: 81 | XBO: 76.0\n",
            "LEGO Star Wars: The Skywalker Saga - XSX: 82 | XBO: 76.0\n",
            "Watch Dogs: Legion - XSX: 74 | XBO: 76.0\n",
            "Sable - XSX: 71 | XBO: 74.0\n",
            "Boyfriend Dungeon - XSX: 70 | XBO: 74.0\n",
            "Warhammer: Chaosbane - XSX: 76 | XBO: 73.0\n",
            "Destiny 2: Beyond Light - XSX: 71 | XBO: 73.0\n",
            "Lake - XSX: 71 | XBO: 73.0\n",
            "Twelve Minutes - XSX: 72 | XBO: 71.0\n",
            "Kao the Kangaroo - XSX: 69 | XBO: 70.0\n",
            "The Gunk - XSX: 70 | XBO: 69.0\n",
            "NBA 2K21 - XSX: 80 | XBO: 67.0\n",
            "The Sinking City - XSX: 77 | XBO: 66.0\n",
            "Monster Truck Championship - XSX: 72 | XBO: 66.0\n",
            "Hunting Simulator 2 - XSX: 66 | XBO: 63.0\n",
            "The Falconeer - XSX: 65 | XBO: 62.0\n",
            "Cyberpunk 2077 - XSX: 87 | XBO: 61.0\n",
            "Tennis World Tour 2 - XSX: 55 | XBO: 58.0\n",
            "Martha is Dead - XSX: 65 | XBO: 58.0\n",
            "Space Jam: A New Legacy - The Game - XSX: 52 | XBO: 53.0\n"
          ]
        }
      ]
    },
    {
      "cell_type": "code",
      "source": [
        "# é necessário, então, apagar os jogos que se repetem do Dataframe de jogos do XSX para posterior concatenação\n",
        "\n",
        "for jogo in jogos_ambos_dt:\n",
        "  # a variável index_jogo busca o jogo no dataframe de jogos XSX pelo nome, localiza o index e o uso de tolist() e [0]\n",
        "  # garante apenas a o valor exato do index\n",
        "\n",
        "  index_jogo = dt_xsx_metacritic.query(f'Name == \"{jogo}\"').index.tolist()[0]\n",
        "  dt_xsx_metacritic.drop(index_jogo, inplace =  True)"
      ],
      "metadata": {
        "id": "Vki0oB_Jijw0"
      },
      "execution_count": 54,
      "outputs": []
    },
    {
      "cell_type": "code",
      "source": [
        "dt_xsx_metacritic.shape[0]"
      ],
      "metadata": {
        "colab": {
          "base_uri": "https://localhost:8080/"
        },
        "id": "mdrARyYnxuzP",
        "outputId": "14961872-5cc2-4e48-f24e-a474baf508a1"
      },
      "execution_count": 55,
      "outputs": [
        {
          "output_type": "execute_result",
          "data": {
            "text/plain": [
              "237"
            ]
          },
          "metadata": {},
          "execution_count": 55
        }
      ]
    },
    {
      "cell_type": "code",
      "source": [
        "# verifica-se novamente, a fim de confirmar, se os jogos ainda se repetem\n",
        "\n",
        "xsx_games_new = list(dt_xsx_metacritic)\n",
        "\n",
        "for jogo in dt_xbo_metacritic['Name']:\n",
        "  if jogo in xsx_games_new:\n",
        "    print('repetido')\n",
        "\n",
        "#como não houve nenhum print é possível considerar que foram todos removidos"
      ],
      "metadata": {
        "id": "-apccuxD3h91"
      },
      "execution_count": 59,
      "outputs": []
    },
    {
      "cell_type": "markdown",
      "source": [
        "## Concatenando os Dataframes"
      ],
      "metadata": {
        "id": "PJtkijQv4LMr"
      }
    },
    {
      "cell_type": "code",
      "source": [
        "xbox_metacritic = pd.concat([dt_xbo_metacritic, dt_xsx_metacritic])"
      ],
      "metadata": {
        "id": "edW5NpUa36cN"
      },
      "execution_count": 60,
      "outputs": []
    },
    {
      "cell_type": "code",
      "source": [
        "xbox_metacritic"
      ],
      "metadata": {
        "colab": {
          "base_uri": "https://localhost:8080/",
          "height": 424
        },
        "id": "1KBNnVHj4h5p",
        "outputId": "32d0de0d-aa66-4c44-c9de-bdce08a07d90"
      },
      "execution_count": 61,
      "outputs": [
        {
          "output_type": "execute_result",
          "data": {
            "text/plain": [
              "                                          Name       Release date Metascore  \\\n",
              "0                        Red Dead Redemption 2   October 26, 2018      97.0   \n",
              "1                           Grand Theft Auto V  November 18, 2014      97.0   \n",
              "2         Metal Gear Solid V: The Phantom Pain  September 1, 2015      95.0   \n",
              "3                                      Celeste   January 26, 2018      94.0   \n",
              "4    The Witcher 3: Wild Hunt - Blood and Wine       May 31, 2016      94.0   \n",
              "..                                         ...                ...       ...   \n",
              "276                      Music Racer: Ultimate      March 4, 2022        50   \n",
              "277                                  Blackwind   January 20, 2022        48   \n",
              "278                          Balan Wonderworld     March 26, 2021        47   \n",
              "279                     Krut: The Mythic Wings      July 12, 2022        43   \n",
              "280                                 CrossfireX  February 10, 2022        38   \n",
              "\n",
              "    Userscore  \n",
              "0         8.2  \n",
              "1         7.9  \n",
              "2         7.6  \n",
              "3         7.6  \n",
              "4         8.6  \n",
              "..        ...  \n",
              "276       tbd  \n",
              "277       tbd  \n",
              "278       7.2  \n",
              "279       tbd  \n",
              "280       3.3  \n",
              "\n",
              "[2323 rows x 4 columns]"
            ],
            "text/html": [
              "\n",
              "  <div id=\"df-9cfa2516-784e-4f34-81f2-80d49e690161\">\n",
              "    <div class=\"colab-df-container\">\n",
              "      <div>\n",
              "<style scoped>\n",
              "    .dataframe tbody tr th:only-of-type {\n",
              "        vertical-align: middle;\n",
              "    }\n",
              "\n",
              "    .dataframe tbody tr th {\n",
              "        vertical-align: top;\n",
              "    }\n",
              "\n",
              "    .dataframe thead th {\n",
              "        text-align: right;\n",
              "    }\n",
              "</style>\n",
              "<table border=\"1\" class=\"dataframe\">\n",
              "  <thead>\n",
              "    <tr style=\"text-align: right;\">\n",
              "      <th></th>\n",
              "      <th>Name</th>\n",
              "      <th>Release date</th>\n",
              "      <th>Metascore</th>\n",
              "      <th>Userscore</th>\n",
              "    </tr>\n",
              "  </thead>\n",
              "  <tbody>\n",
              "    <tr>\n",
              "      <th>0</th>\n",
              "      <td>Red Dead Redemption 2</td>\n",
              "      <td>October 26, 2018</td>\n",
              "      <td>97.0</td>\n",
              "      <td>8.2</td>\n",
              "    </tr>\n",
              "    <tr>\n",
              "      <th>1</th>\n",
              "      <td>Grand Theft Auto V</td>\n",
              "      <td>November 18, 2014</td>\n",
              "      <td>97.0</td>\n",
              "      <td>7.9</td>\n",
              "    </tr>\n",
              "    <tr>\n",
              "      <th>2</th>\n",
              "      <td>Metal Gear Solid V: The Phantom Pain</td>\n",
              "      <td>September 1, 2015</td>\n",
              "      <td>95.0</td>\n",
              "      <td>7.6</td>\n",
              "    </tr>\n",
              "    <tr>\n",
              "      <th>3</th>\n",
              "      <td>Celeste</td>\n",
              "      <td>January 26, 2018</td>\n",
              "      <td>94.0</td>\n",
              "      <td>7.6</td>\n",
              "    </tr>\n",
              "    <tr>\n",
              "      <th>4</th>\n",
              "      <td>The Witcher 3: Wild Hunt - Blood and Wine</td>\n",
              "      <td>May 31, 2016</td>\n",
              "      <td>94.0</td>\n",
              "      <td>8.6</td>\n",
              "    </tr>\n",
              "    <tr>\n",
              "      <th>...</th>\n",
              "      <td>...</td>\n",
              "      <td>...</td>\n",
              "      <td>...</td>\n",
              "      <td>...</td>\n",
              "    </tr>\n",
              "    <tr>\n",
              "      <th>276</th>\n",
              "      <td>Music Racer: Ultimate</td>\n",
              "      <td>March 4, 2022</td>\n",
              "      <td>50</td>\n",
              "      <td>tbd</td>\n",
              "    </tr>\n",
              "    <tr>\n",
              "      <th>277</th>\n",
              "      <td>Blackwind</td>\n",
              "      <td>January 20, 2022</td>\n",
              "      <td>48</td>\n",
              "      <td>tbd</td>\n",
              "    </tr>\n",
              "    <tr>\n",
              "      <th>278</th>\n",
              "      <td>Balan Wonderworld</td>\n",
              "      <td>March 26, 2021</td>\n",
              "      <td>47</td>\n",
              "      <td>7.2</td>\n",
              "    </tr>\n",
              "    <tr>\n",
              "      <th>279</th>\n",
              "      <td>Krut: The Mythic Wings</td>\n",
              "      <td>July 12, 2022</td>\n",
              "      <td>43</td>\n",
              "      <td>tbd</td>\n",
              "    </tr>\n",
              "    <tr>\n",
              "      <th>280</th>\n",
              "      <td>CrossfireX</td>\n",
              "      <td>February 10, 2022</td>\n",
              "      <td>38</td>\n",
              "      <td>3.3</td>\n",
              "    </tr>\n",
              "  </tbody>\n",
              "</table>\n",
              "<p>2323 rows × 4 columns</p>\n",
              "</div>\n",
              "      <button class=\"colab-df-convert\" onclick=\"convertToInteractive('df-9cfa2516-784e-4f34-81f2-80d49e690161')\"\n",
              "              title=\"Convert this dataframe to an interactive table.\"\n",
              "              style=\"display:none;\">\n",
              "        \n",
              "  <svg xmlns=\"http://www.w3.org/2000/svg\" height=\"24px\"viewBox=\"0 0 24 24\"\n",
              "       width=\"24px\">\n",
              "    <path d=\"M0 0h24v24H0V0z\" fill=\"none\"/>\n",
              "    <path d=\"M18.56 5.44l.94 2.06.94-2.06 2.06-.94-2.06-.94-.94-2.06-.94 2.06-2.06.94zm-11 1L8.5 8.5l.94-2.06 2.06-.94-2.06-.94L8.5 2.5l-.94 2.06-2.06.94zm10 10l.94 2.06.94-2.06 2.06-.94-2.06-.94-.94-2.06-.94 2.06-2.06.94z\"/><path d=\"M17.41 7.96l-1.37-1.37c-.4-.4-.92-.59-1.43-.59-.52 0-1.04.2-1.43.59L10.3 9.45l-7.72 7.72c-.78.78-.78 2.05 0 2.83L4 21.41c.39.39.9.59 1.41.59.51 0 1.02-.2 1.41-.59l7.78-7.78 2.81-2.81c.8-.78.8-2.07 0-2.86zM5.41 20L4 18.59l7.72-7.72 1.47 1.35L5.41 20z\"/>\n",
              "  </svg>\n",
              "      </button>\n",
              "      \n",
              "  <style>\n",
              "    .colab-df-container {\n",
              "      display:flex;\n",
              "      flex-wrap:wrap;\n",
              "      gap: 12px;\n",
              "    }\n",
              "\n",
              "    .colab-df-convert {\n",
              "      background-color: #E8F0FE;\n",
              "      border: none;\n",
              "      border-radius: 50%;\n",
              "      cursor: pointer;\n",
              "      display: none;\n",
              "      fill: #1967D2;\n",
              "      height: 32px;\n",
              "      padding: 0 0 0 0;\n",
              "      width: 32px;\n",
              "    }\n",
              "\n",
              "    .colab-df-convert:hover {\n",
              "      background-color: #E2EBFA;\n",
              "      box-shadow: 0px 1px 2px rgba(60, 64, 67, 0.3), 0px 1px 3px 1px rgba(60, 64, 67, 0.15);\n",
              "      fill: #174EA6;\n",
              "    }\n",
              "\n",
              "    [theme=dark] .colab-df-convert {\n",
              "      background-color: #3B4455;\n",
              "      fill: #D2E3FC;\n",
              "    }\n",
              "\n",
              "    [theme=dark] .colab-df-convert:hover {\n",
              "      background-color: #434B5C;\n",
              "      box-shadow: 0px 1px 3px 1px rgba(0, 0, 0, 0.15);\n",
              "      filter: drop-shadow(0px 1px 2px rgba(0, 0, 0, 0.3));\n",
              "      fill: #FFFFFF;\n",
              "    }\n",
              "  </style>\n",
              "\n",
              "      <script>\n",
              "        const buttonEl =\n",
              "          document.querySelector('#df-9cfa2516-784e-4f34-81f2-80d49e690161 button.colab-df-convert');\n",
              "        buttonEl.style.display =\n",
              "          google.colab.kernel.accessAllowed ? 'block' : 'none';\n",
              "\n",
              "        async function convertToInteractive(key) {\n",
              "          const element = document.querySelector('#df-9cfa2516-784e-4f34-81f2-80d49e690161');\n",
              "          const dataTable =\n",
              "            await google.colab.kernel.invokeFunction('convertToInteractive',\n",
              "                                                     [key], {});\n",
              "          if (!dataTable) return;\n",
              "\n",
              "          const docLinkHtml = 'Like what you see? Visit the ' +\n",
              "            '<a target=\"_blank\" href=https://colab.research.google.com/notebooks/data_table.ipynb>data table notebook</a>'\n",
              "            + ' to learn more about interactive tables.';\n",
              "          element.innerHTML = '';\n",
              "          dataTable['output_type'] = 'display_data';\n",
              "          await google.colab.output.renderOutput(dataTable, element);\n",
              "          const docLink = document.createElement('div');\n",
              "          docLink.innerHTML = docLinkHtml;\n",
              "          element.appendChild(docLink);\n",
              "        }\n",
              "      </script>\n",
              "    </div>\n",
              "  </div>\n",
              "  "
            ]
          },
          "metadata": {},
          "execution_count": 61
        }
      ]
    },
    {
      "cell_type": "code",
      "source": [
        "print(dt_xbo_metacritic.shape[0] + dt_xsx_metacritic.shape[0])"
      ],
      "metadata": {
        "colab": {
          "base_uri": "https://localhost:8080/"
        },
        "id": "XV41LpHp5cZM",
        "outputId": "bda87bca-14d8-486b-aa21-bee1e496b308"
      },
      "execution_count": 63,
      "outputs": [
        {
          "output_type": "stream",
          "name": "stdout",
          "text": [
            "2323\n"
          ]
        }
      ]
    },
    {
      "cell_type": "markdown",
      "source": [
        "## Exportando o Dataframe"
      ],
      "metadata": {
        "id": "HkZaUQtX6R8F"
      }
    },
    {
      "cell_type": "code",
      "source": [
        "xbox_metacritic.to_csv('xbox_metacritic.csv', index = False, encoding = 'utf-8-sig')"
      ],
      "metadata": {
        "id": "UcItqnNy6Y4O"
      },
      "execution_count": 64,
      "outputs": []
    }
  ]
}