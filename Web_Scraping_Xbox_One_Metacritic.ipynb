{
  "nbformat": 4,
  "nbformat_minor": 0,
  "metadata": {
    "colab": {
      "provenance": [],
      "authorship_tag": "ABX9TyPVLqBAQCVSfcAvNP3SifH8",
      "include_colab_link": true
    },
    "kernelspec": {
      "name": "python3",
      "display_name": "Python 3"
    },
    "language_info": {
      "name": "python"
    }
  },
  "cells": [
    {
      "cell_type": "markdown",
      "metadata": {
        "id": "view-in-github",
        "colab_type": "text"
      },
      "source": [
        "<a href=\"https://colab.research.google.com/github/DamodaraBarbosa/estudos_web_scraping/blob/main/Web_Scraping_Xbox_One_Metacritic.ipynb\" target=\"_parent\"><img src=\"https://colab.research.google.com/assets/colab-badge.svg\" alt=\"Open In Colab\"/></a>"
      ]
    },
    {
      "cell_type": "markdown",
      "source": [
        "## Importando as bibliotecas que serão utilizadas"
      ],
      "metadata": {
        "id": "hRU3qN6d-w7g"
      }
    },
    {
      "cell_type": "markdown",
      "source": [
        "Pandas, urllib.request e bs4"
      ],
      "metadata": {
        "id": "pe_K8Mlg-1zC"
      }
    },
    {
      "cell_type": "code",
      "execution_count": null,
      "metadata": {
        "id": "6wnr8Jgf-Teo"
      },
      "outputs": [],
      "source": [
        "import pandas as pd\n",
        "from urllib.request import Request, urlopen\n",
        "from urllib.error import HTTPError, URLError\n",
        "from bs4 import BeautifulSoup"
      ]
    },
    {
      "cell_type": "markdown",
      "source": [
        "## Início do scraping"
      ],
      "metadata": {
        "id": "4_4cMBc5_t5N"
      }
    },
    {
      "cell_type": "markdown",
      "source": [
        "URL"
      ],
      "metadata": {
        "id": "iUGkxwLS_ySM"
      }
    },
    {
      "cell_type": "code",
      "source": [
        "url = 'https://www.metacritic.com/browse/games/release-date/available/xboxone/metascore?page=0'"
      ],
      "metadata": {
        "id": "ltuxJonM_Bbh"
      },
      "execution_count": null,
      "outputs": []
    },
    {
      "cell_type": "code",
      "source": [
        "headers = {'User-Agent': 'Mozilla/5.0 (Windows NT 10.0; Win64; x64) AppleWebKit/537.36 (KHTML, like Gecko) Chrome/104.0.0.0 Safari/537.36'}\n"
      ],
      "metadata": {
        "id": "hkwkoeuAAZ6a"
      },
      "execution_count": null,
      "outputs": []
    },
    {
      "cell_type": "code",
      "source": [
        "# # tratamento de erro para HTTPError e URLError\n",
        "\n",
        "# try:\n",
        "#   req = Request(url, headers = headers)\n",
        "#   response = urlopen(req)\n",
        "#   html = response.read().decode('utf-8')\n",
        "# except HTTPError as e:\n",
        "#   print(e.status, e.reason)\n",
        "# except URLError as e:\n",
        "#   print(e.reason)"
      ],
      "metadata": {
        "id": "FlBszsg3_8Te"
      },
      "execution_count": null,
      "outputs": []
    },
    {
      "cell_type": "code",
      "source": [
        "# soup = BeautifulSoup(html, 'html.parser')"
      ],
      "metadata": {
        "id": "n1Bfg2EFADam"
      },
      "execution_count": null,
      "outputs": []
    },
    {
      "cell_type": "code",
      "source": [
        "# soup"
      ],
      "metadata": {
        "id": "KV5cHzAaA-6I"
      },
      "execution_count": null,
      "outputs": []
    },
    {
      "cell_type": "markdown",
      "source": [
        "## Obtendo os dados desejáveis\n"
      ],
      "metadata": {
        "id": "1bOZ5J6ZBaDZ"
      }
    },
    {
      "cell_type": "markdown",
      "source": [
        "Nome do jogo"
      ],
      "metadata": {
        "id": "tL3b49P7BdK3"
      }
    },
    {
      "cell_type": "code",
      "source": [
        "# game_name = soup.find('a', {'class': 'title'}).find('h3').get_text()"
      ],
      "metadata": {
        "id": "gGvFagkgBcow"
      },
      "execution_count": null,
      "outputs": []
    },
    {
      "cell_type": "code",
      "source": [
        "# game_name"
      ],
      "metadata": {
        "id": "5pq7I4jfB5jS"
      },
      "execution_count": null,
      "outputs": []
    },
    {
      "cell_type": "markdown",
      "source": [
        "Data de lançamento"
      ],
      "metadata": {
        "id": "CrS0Ck4SDZxn"
      }
    },
    {
      "cell_type": "code",
      "source": [
        "# spans = soup.find('div', {'class': 'clamp-details'}).findAll('span').split()"
      ],
      "metadata": {
        "id": "5MkTDLgSDXbd"
      },
      "execution_count": null,
      "outputs": []
    },
    {
      "cell_type": "code",
      "source": [
        "# spans"
      ],
      "metadata": {
        "id": "03qMeMbxE9gA"
      },
      "execution_count": null,
      "outputs": []
    },
    {
      "cell_type": "code",
      "source": [
        "# para obter a data de lançamento seleciona-se o último elemento da lista e utiliza-se o método get_text()\n",
        "\n",
        "# release_date = spans[-1].get_text()"
      ],
      "metadata": {
        "id": "ufKUZjqSDyDc"
      },
      "execution_count": null,
      "outputs": []
    },
    {
      "cell_type": "code",
      "source": [
        "# release_date"
      ],
      "metadata": {
        "id": "fim_hkBpEJ3M"
      },
      "execution_count": null,
      "outputs": []
    },
    {
      "cell_type": "markdown",
      "source": [
        "Obtenção do metascore e do userscore"
      ],
      "metadata": {
        "id": "neynAccgFIb1"
      }
    },
    {
      "cell_type": "code",
      "source": [
        "# metascore = soup.find('div', {'class': 'clamp-metascore'}).find('div', {'class': 'metascore_w large game positive'}).get_text()"
      ],
      "metadata": {
        "id": "IcdrLwvXLJbi"
      },
      "execution_count": null,
      "outputs": []
    },
    {
      "cell_type": "code",
      "source": [
        "# metascore = soup.find('div', {'class': 'clamp-metascore'}).find('div').get_text()"
      ],
      "metadata": {
        "id": "skq39NtbE8iz"
      },
      "execution_count": null,
      "outputs": []
    },
    {
      "cell_type": "code",
      "source": [
        "# metascore"
      ],
      "metadata": {
        "id": "zpOZfWmuICYL"
      },
      "execution_count": null,
      "outputs": []
    },
    {
      "cell_type": "code",
      "source": [
        "# analisando o html do site é possível verificarque a classe varia de cor da nota, a saber verde, amarela e vermelha\n",
        "# podendo apresentar os valores: 'metascore_w large game positive' quando verde\n",
        "# 'metascore_w large game mixed' quando amarelo\n",
        "# e 'metascore_w large game negative' quando vermelho"
      ],
      "metadata": {
        "id": "qVrCePmyIrUF"
      },
      "execution_count": null,
      "outputs": []
    },
    {
      "cell_type": "code",
      "source": [
        "# userscore = soup.find('div', {'class': 'clamp-userscore'}).find('div').get_text()"
      ],
      "metadata": {
        "id": "TDaxbIVgKBot"
      },
      "execution_count": null,
      "outputs": []
    },
    {
      "cell_type": "code",
      "source": [
        "# type(userscore)"
      ],
      "metadata": {
        "id": "htB5xTVaKqmj"
      },
      "execution_count": null,
      "outputs": []
    },
    {
      "cell_type": "code",
      "source": [
        "# userscore"
      ],
      "metadata": {
        "id": "_bcI4xAwKXAl"
      },
      "execution_count": null,
      "outputs": []
    },
    {
      "cell_type": "markdown",
      "source": [
        "## Iterando as páginas do site"
      ],
      "metadata": {
        "id": "mSD2KreRLsJe"
      }
    },
    {
      "cell_type": "code",
      "source": [
        "# são 21 páginas que na url 'https://www.metacritic.com/browse/games/release-date/available/xboxone/metascore?page=PÁGINA' vai de 0 a 20"
      ],
      "metadata": {
        "id": "SwJcKBryK08k"
      },
      "execution_count": null,
      "outputs": []
    },
    {
      "cell_type": "code",
      "source": [
        "for i in range(0, 21):\n",
        "  print(i, end= ' ')"
      ],
      "metadata": {
        "colab": {
          "base_uri": "https://localhost:8080/"
        },
        "id": "nJyuOwXoL-0J",
        "outputId": "9f8395c3-58eb-42da-c4c7-5593365486fc"
      },
      "execution_count": null,
      "outputs": [
        {
          "output_type": "stream",
          "name": "stdout",
          "text": [
            "0 1 2 3 4 5 6 7 8 9 10 11 12 13 14 15 16 17 18 19 20 "
          ]
        }
      ]
    },
    {
      "cell_type": "code",
      "source": [
        "# logo:\n",
        "url_teste = 'https://www.metacritic.com/browse/games/release-date/available/xboxone/metascore?page='\n",
        "\n",
        "for i in range(0, 21):\n",
        "  print(url_teste + str(i))"
      ],
      "metadata": {
        "colab": {
          "base_uri": "https://localhost:8080/"
        },
        "id": "eXTL5NsxMESe",
        "outputId": "7d365d1a-9ae7-4f44-d654-3f5f6f11a21e"
      },
      "execution_count": null,
      "outputs": [
        {
          "output_type": "stream",
          "name": "stdout",
          "text": [
            "https://www.metacritic.com/browse/games/release-date/available/xboxone/metascore?page=0\n",
            "https://www.metacritic.com/browse/games/release-date/available/xboxone/metascore?page=1\n",
            "https://www.metacritic.com/browse/games/release-date/available/xboxone/metascore?page=2\n",
            "https://www.metacritic.com/browse/games/release-date/available/xboxone/metascore?page=3\n",
            "https://www.metacritic.com/browse/games/release-date/available/xboxone/metascore?page=4\n",
            "https://www.metacritic.com/browse/games/release-date/available/xboxone/metascore?page=5\n",
            "https://www.metacritic.com/browse/games/release-date/available/xboxone/metascore?page=6\n",
            "https://www.metacritic.com/browse/games/release-date/available/xboxone/metascore?page=7\n",
            "https://www.metacritic.com/browse/games/release-date/available/xboxone/metascore?page=8\n",
            "https://www.metacritic.com/browse/games/release-date/available/xboxone/metascore?page=9\n",
            "https://www.metacritic.com/browse/games/release-date/available/xboxone/metascore?page=10\n",
            "https://www.metacritic.com/browse/games/release-date/available/xboxone/metascore?page=11\n",
            "https://www.metacritic.com/browse/games/release-date/available/xboxone/metascore?page=12\n",
            "https://www.metacritic.com/browse/games/release-date/available/xboxone/metascore?page=13\n",
            "https://www.metacritic.com/browse/games/release-date/available/xboxone/metascore?page=14\n",
            "https://www.metacritic.com/browse/games/release-date/available/xboxone/metascore?page=15\n",
            "https://www.metacritic.com/browse/games/release-date/available/xboxone/metascore?page=16\n",
            "https://www.metacritic.com/browse/games/release-date/available/xboxone/metascore?page=17\n",
            "https://www.metacritic.com/browse/games/release-date/available/xboxone/metascore?page=18\n",
            "https://www.metacritic.com/browse/games/release-date/available/xboxone/metascore?page=19\n",
            "https://www.metacritic.com/browse/games/release-date/available/xboxone/metascore?page=20\n"
          ]
        }
      ]
    },
    {
      "cell_type": "markdown",
      "source": [
        "Iterando o html de cada jogo"
      ],
      "metadata": {
        "id": "jCqpnzWMQGbW"
      }
    },
    {
      "cell_type": "code",
      "source": [
        "# for soup_game in soup.findAll('td', {'class': 'clamp-summary-wrap'}):\n",
        "#   print(str(soup_game) + '\\n\\n')"
      ],
      "metadata": {
        "id": "bNMsGnEYOwOU"
      },
      "execution_count": null,
      "outputs": []
    },
    {
      "cell_type": "markdown",
      "source": [
        "## Definindo algumas funções"
      ],
      "metadata": {
        "id": "i_acULje0JIN"
      }
    },
    {
      "cell_type": "markdown",
      "source": [
        "Função para obter o metascore do jogo"
      ],
      "metadata": {
        "id": "kxgACvQM0NAR"
      }
    },
    {
      "cell_type": "code",
      "source": [
        "# função para obtenção da nota do metascore\n",
        "\n",
        "def metascore_score(mscore):\n",
        "  if 'positive' in str(mscore):\n",
        "    meta = mscore.find('div', {'class': 'metascore_w large game positive'}).get_text()\n",
        "  elif 'mixed' in str(mscore):\n",
        "    meta = mscore.find('div', {'class': 'metascore_w large game mixed'}).get_text()\n",
        "  else:\n",
        "    meta = mscore.find('div', {'class': 'metascore_w large game negative'}).get_text()\n",
        "  \n",
        "  return meta\n"
      ],
      "metadata": {
        "id": "3boSc-AI0RtU"
      },
      "execution_count": null,
      "outputs": []
    },
    {
      "cell_type": "markdown",
      "source": [
        "Função para obter o userscore do jogo"
      ],
      "metadata": {
        "id": "CwIyDbeQ0v5h"
      }
    },
    {
      "cell_type": "code",
      "source": [
        "# função para obtenção da nota do userscore\n",
        "\n",
        "def userscore_score(uscore): \n",
        "  if 'positive' in str(uscore):\n",
        "    user = uscore.find('div', {'class': 'metascore_w user large game positive'}).get_text()\n",
        "  elif 'mixed' in str(uscore):\n",
        "    user = uscore.find('div', {'class': 'metascore_w user large game mixed'}).get_text()\n",
        "  elif 'negative' in str(uscore):\n",
        "    user = uscore.find('div', {'class': 'metascore_w user large game negative'}).get_text()\n",
        "  else:\n",
        "    user = uscore.find('div', {'class': 'metascore_w user large game tbd'}).get_text()\n",
        "  \n",
        "  return user"
      ],
      "metadata": {
        "id": "ssT8lkOo0zeW"
      },
      "execution_count": null,
      "outputs": []
    },
    {
      "cell_type": "markdown",
      "source": [
        "## Obtenção dos dados"
      ],
      "metadata": {
        "id": "o6RPvjbH6rkj"
      }
    },
    {
      "cell_type": "markdown",
      "source": [
        "Criando rotina de scraping"
      ],
      "metadata": {
        "id": "bd-3ast8NDNl"
      }
    },
    {
      "cell_type": "code",
      "source": [
        "# o dado de cada jogo será armazenado no dicionário 'game' e cada 'game' na lista 'games'\n",
        "\n",
        "game = dict()\n",
        "games = list()"
      ],
      "metadata": {
        "id": "GK5_HUD-OKIu"
      },
      "execution_count": null,
      "outputs": []
    },
    {
      "cell_type": "code",
      "source": [
        "for i in range(0, 21):\n",
        "  headers = {'User-Agent': 'Mozilla/5.0 (Windows NT 10.0; Win64; x64) AppleWebKit/537.36 (KHTML, like Gecko) Chrome/104.0.0.0 Safari/537.36'}\n",
        "\n",
        "  try:\n",
        "    req = Request(('https://www.metacritic.com/browse/games/release-date/available/xboxone/metascore?page=' + str(i)), headers = headers)\n",
        "    response = urlopen(req)\n",
        "    html = response.read().decode('utf-8')\n",
        "    soup = BeautifulSoup(html, 'html.parser')\n",
        "  except HTTPError as e:\n",
        "    print(e.status, e.reason)\n",
        "  except URLError as e:\n",
        "    print(e.reason)\n",
        "\n",
        "  soup_jogos = soup.findAll('td', {'class': 'clamp-summary-wrap'})\n",
        "\n",
        "  for index, soup_jogo in enumerate(soup_jogos):\n",
        "    game['Name'] = soup_jogo.find('a', {'class': 'title'}).find('h3').get_text()\n",
        "    spans = soup_jogo.find('div', {'class': 'clamp-details'}).findAll('span')\n",
        "    game['Release date'] = spans[-1].get_text()\n",
        "\n",
        "    metascore = soup_jogo.find('div', {'class': 'clamp-metascore'})\n",
        "    userscore = soup_jogo.find('div', {'class': 'clamp-userscore'})\n",
        "    game['Metascore'] = metascore_score(metascore)\n",
        "    game['Userscore'] = userscore_score(userscore)\n",
        "\n",
        "    games.append(game.copy())"
      ],
      "metadata": {
        "id": "1MpXk-owMaM5"
      },
      "execution_count": null,
      "outputs": []
    },
    {
      "cell_type": "code",
      "source": [
        "game"
      ],
      "metadata": {
        "colab": {
          "base_uri": "https://localhost:8080/"
        },
        "id": "9veWVrHLQvcL",
        "outputId": "d8f46cd4-275d-49a2-a1e7-78653a568919"
      },
      "execution_count": null,
      "outputs": [
        {
          "output_type": "execute_result",
          "data": {
            "text/plain": [
              "{'Name': 'Rugby 15',\n",
              " 'Release date': 'February 24, 2015',\n",
              " 'Metascore': '20',\n",
              " 'Userscore': '2.9'}"
            ]
          },
          "metadata": {},
          "execution_count": 28
        }
      ]
    },
    {
      "cell_type": "code",
      "source": [
        "len(games)"
      ],
      "metadata": {
        "colab": {
          "base_uri": "https://localhost:8080/"
        },
        "id": "ozqsGywlSJjE",
        "outputId": "2eb4fcc6-05db-440c-d00a-03c1742f6fbc"
      },
      "execution_count": null,
      "outputs": [
        {
          "output_type": "execute_result",
          "data": {
            "text/plain": [
              "2043"
            ]
          },
          "metadata": {},
          "execution_count": 29
        }
      ]
    },
    {
      "cell_type": "code",
      "source": [
        "games[:10]"
      ],
      "metadata": {
        "colab": {
          "base_uri": "https://localhost:8080/"
        },
        "id": "VgrDjOTJW5e9",
        "outputId": "1d4ddd2e-1e7e-4059-a55a-b2e81e0ffcbb"
      },
      "execution_count": null,
      "outputs": [
        {
          "output_type": "execute_result",
          "data": {
            "text/plain": [
              "[{'Name': 'Red Dead Redemption 2',\n",
              "  'Release date': 'October 26, 2018',\n",
              "  'Metascore': '97',\n",
              "  'Userscore': '8.2'},\n",
              " {'Name': 'Grand Theft Auto V',\n",
              "  'Release date': 'November 18, 2014',\n",
              "  'Metascore': '97',\n",
              "  'Userscore': '7.9'},\n",
              " {'Name': 'Metal Gear Solid V: The Phantom Pain',\n",
              "  'Release date': 'September 1, 2015',\n",
              "  'Metascore': '95',\n",
              "  'Userscore': '7.6'},\n",
              " {'Name': 'Celeste',\n",
              "  'Release date': 'January 26, 2018',\n",
              "  'Metascore': '94',\n",
              "  'Userscore': '7.6'},\n",
              " {'Name': 'The Witcher 3: Wild Hunt - Blood and Wine',\n",
              "  'Release date': 'May 31, 2016',\n",
              "  'Metascore': '94',\n",
              "  'Userscore': '8.6'},\n",
              " {'Name': 'Resident Evil 2',\n",
              "  'Release date': 'January 25, 2019',\n",
              "  'Metascore': '93',\n",
              "  'Userscore': '8.8'},\n",
              " {'Name': 'INSIDE',\n",
              "  'Release date': 'June 29, 2016',\n",
              "  'Metascore': '93',\n",
              "  'Userscore': '8.4'},\n",
              " {'Name': 'Forza Horizon 4',\n",
              "  'Release date': 'September 28, 2018',\n",
              "  'Metascore': '92',\n",
              "  'Userscore': '8.3'},\n",
              " {'Name': 'Divinity: Original Sin II - Definitive Edition',\n",
              "  'Release date': 'August 31, 2018',\n",
              "  'Metascore': '92',\n",
              "  'Userscore': '7.7'},\n",
              " {'Name': 'RimWorld Console Edition',\n",
              "  'Release date': 'July 29, 2022',\n",
              "  'Metascore': '92',\n",
              "  'Userscore': '8.4'}]"
            ]
          },
          "metadata": {},
          "execution_count": 30
        }
      ]
    },
    {
      "cell_type": "markdown",
      "source": [
        "## Exportando os dados como Dataframe"
      ],
      "metadata": {
        "id": "gu_IpRq2XCgf"
      }
    },
    {
      "cell_type": "markdown",
      "source": [
        "Gerando o Dataframe"
      ],
      "metadata": {
        "id": "l0uU5BhmXFl_"
      }
    },
    {
      "cell_type": "code",
      "source": [
        "dt_metacritic = pd.DataFrame(games)"
      ],
      "metadata": {
        "id": "p0rP4hRuXFIk"
      },
      "execution_count": null,
      "outputs": []
    },
    {
      "cell_type": "code",
      "source": [
        "dt_metacritic.drop_duplicates(subset = 'Name')"
      ],
      "metadata": {
        "colab": {
          "base_uri": "https://localhost:8080/",
          "height": 424
        },
        "id": "mNDnffBuX5gF",
        "outputId": "8408f284-cc83-4045-caba-c60d75498884"
      },
      "execution_count": null,
      "outputs": [
        {
          "output_type": "execute_result",
          "data": {
            "text/plain": [
              "                                           Name       Release date Metascore  \\\n",
              "0                         Red Dead Redemption 2   October 26, 2018        97   \n",
              "1                            Grand Theft Auto V  November 18, 2014        97   \n",
              "2          Metal Gear Solid V: The Phantom Pain  September 1, 2015        95   \n",
              "3                                       Celeste   January 26, 2018        94   \n",
              "4     The Witcher 3: Wild Hunt - Blood and Wine       May 31, 2016        94   \n",
              "...                                         ...                ...       ...   \n",
              "2038                This is the Zodiac Speaking   October 15, 2020        30   \n",
              "2039                 Rock 'N Racing Off Road DX   October 16, 2015        29   \n",
              "2040                    Robot Squad Simulator X        May 1, 2020        25   \n",
              "2041                             Fighter Within  November 19, 2013        23   \n",
              "2042                                   Rugby 15  February 24, 2015        20   \n",
              "\n",
              "     Userscore  \n",
              "0          8.2  \n",
              "1          7.9  \n",
              "2          7.6  \n",
              "3          7.6  \n",
              "4          8.6  \n",
              "...        ...  \n",
              "2038       tbd  \n",
              "2039       1.5  \n",
              "2040       tbd  \n",
              "2041       2.8  \n",
              "2042       2.9  \n",
              "\n",
              "[2043 rows x 4 columns]"
            ],
            "text/html": [
              "\n",
              "  <div id=\"df-cb6d4758-821b-406e-95b3-220e5c3a752c\">\n",
              "    <div class=\"colab-df-container\">\n",
              "      <div>\n",
              "<style scoped>\n",
              "    .dataframe tbody tr th:only-of-type {\n",
              "        vertical-align: middle;\n",
              "    }\n",
              "\n",
              "    .dataframe tbody tr th {\n",
              "        vertical-align: top;\n",
              "    }\n",
              "\n",
              "    .dataframe thead th {\n",
              "        text-align: right;\n",
              "    }\n",
              "</style>\n",
              "<table border=\"1\" class=\"dataframe\">\n",
              "  <thead>\n",
              "    <tr style=\"text-align: right;\">\n",
              "      <th></th>\n",
              "      <th>Name</th>\n",
              "      <th>Release date</th>\n",
              "      <th>Metascore</th>\n",
              "      <th>Userscore</th>\n",
              "    </tr>\n",
              "  </thead>\n",
              "  <tbody>\n",
              "    <tr>\n",
              "      <th>0</th>\n",
              "      <td>Red Dead Redemption 2</td>\n",
              "      <td>October 26, 2018</td>\n",
              "      <td>97</td>\n",
              "      <td>8.2</td>\n",
              "    </tr>\n",
              "    <tr>\n",
              "      <th>1</th>\n",
              "      <td>Grand Theft Auto V</td>\n",
              "      <td>November 18, 2014</td>\n",
              "      <td>97</td>\n",
              "      <td>7.9</td>\n",
              "    </tr>\n",
              "    <tr>\n",
              "      <th>2</th>\n",
              "      <td>Metal Gear Solid V: The Phantom Pain</td>\n",
              "      <td>September 1, 2015</td>\n",
              "      <td>95</td>\n",
              "      <td>7.6</td>\n",
              "    </tr>\n",
              "    <tr>\n",
              "      <th>3</th>\n",
              "      <td>Celeste</td>\n",
              "      <td>January 26, 2018</td>\n",
              "      <td>94</td>\n",
              "      <td>7.6</td>\n",
              "    </tr>\n",
              "    <tr>\n",
              "      <th>4</th>\n",
              "      <td>The Witcher 3: Wild Hunt - Blood and Wine</td>\n",
              "      <td>May 31, 2016</td>\n",
              "      <td>94</td>\n",
              "      <td>8.6</td>\n",
              "    </tr>\n",
              "    <tr>\n",
              "      <th>...</th>\n",
              "      <td>...</td>\n",
              "      <td>...</td>\n",
              "      <td>...</td>\n",
              "      <td>...</td>\n",
              "    </tr>\n",
              "    <tr>\n",
              "      <th>2038</th>\n",
              "      <td>This is the Zodiac Speaking</td>\n",
              "      <td>October 15, 2020</td>\n",
              "      <td>30</td>\n",
              "      <td>tbd</td>\n",
              "    </tr>\n",
              "    <tr>\n",
              "      <th>2039</th>\n",
              "      <td>Rock 'N Racing Off Road DX</td>\n",
              "      <td>October 16, 2015</td>\n",
              "      <td>29</td>\n",
              "      <td>1.5</td>\n",
              "    </tr>\n",
              "    <tr>\n",
              "      <th>2040</th>\n",
              "      <td>Robot Squad Simulator X</td>\n",
              "      <td>May 1, 2020</td>\n",
              "      <td>25</td>\n",
              "      <td>tbd</td>\n",
              "    </tr>\n",
              "    <tr>\n",
              "      <th>2041</th>\n",
              "      <td>Fighter Within</td>\n",
              "      <td>November 19, 2013</td>\n",
              "      <td>23</td>\n",
              "      <td>2.8</td>\n",
              "    </tr>\n",
              "    <tr>\n",
              "      <th>2042</th>\n",
              "      <td>Rugby 15</td>\n",
              "      <td>February 24, 2015</td>\n",
              "      <td>20</td>\n",
              "      <td>2.9</td>\n",
              "    </tr>\n",
              "  </tbody>\n",
              "</table>\n",
              "<p>2043 rows × 4 columns</p>\n",
              "</div>\n",
              "      <button class=\"colab-df-convert\" onclick=\"convertToInteractive('df-cb6d4758-821b-406e-95b3-220e5c3a752c')\"\n",
              "              title=\"Convert this dataframe to an interactive table.\"\n",
              "              style=\"display:none;\">\n",
              "        \n",
              "  <svg xmlns=\"http://www.w3.org/2000/svg\" height=\"24px\"viewBox=\"0 0 24 24\"\n",
              "       width=\"24px\">\n",
              "    <path d=\"M0 0h24v24H0V0z\" fill=\"none\"/>\n",
              "    <path d=\"M18.56 5.44l.94 2.06.94-2.06 2.06-.94-2.06-.94-.94-2.06-.94 2.06-2.06.94zm-11 1L8.5 8.5l.94-2.06 2.06-.94-2.06-.94L8.5 2.5l-.94 2.06-2.06.94zm10 10l.94 2.06.94-2.06 2.06-.94-2.06-.94-.94-2.06-.94 2.06-2.06.94z\"/><path d=\"M17.41 7.96l-1.37-1.37c-.4-.4-.92-.59-1.43-.59-.52 0-1.04.2-1.43.59L10.3 9.45l-7.72 7.72c-.78.78-.78 2.05 0 2.83L4 21.41c.39.39.9.59 1.41.59.51 0 1.02-.2 1.41-.59l7.78-7.78 2.81-2.81c.8-.78.8-2.07 0-2.86zM5.41 20L4 18.59l7.72-7.72 1.47 1.35L5.41 20z\"/>\n",
              "  </svg>\n",
              "      </button>\n",
              "      \n",
              "  <style>\n",
              "    .colab-df-container {\n",
              "      display:flex;\n",
              "      flex-wrap:wrap;\n",
              "      gap: 12px;\n",
              "    }\n",
              "\n",
              "    .colab-df-convert {\n",
              "      background-color: #E8F0FE;\n",
              "      border: none;\n",
              "      border-radius: 50%;\n",
              "      cursor: pointer;\n",
              "      display: none;\n",
              "      fill: #1967D2;\n",
              "      height: 32px;\n",
              "      padding: 0 0 0 0;\n",
              "      width: 32px;\n",
              "    }\n",
              "\n",
              "    .colab-df-convert:hover {\n",
              "      background-color: #E2EBFA;\n",
              "      box-shadow: 0px 1px 2px rgba(60, 64, 67, 0.3), 0px 1px 3px 1px rgba(60, 64, 67, 0.15);\n",
              "      fill: #174EA6;\n",
              "    }\n",
              "\n",
              "    [theme=dark] .colab-df-convert {\n",
              "      background-color: #3B4455;\n",
              "      fill: #D2E3FC;\n",
              "    }\n",
              "\n",
              "    [theme=dark] .colab-df-convert:hover {\n",
              "      background-color: #434B5C;\n",
              "      box-shadow: 0px 1px 3px 1px rgba(0, 0, 0, 0.15);\n",
              "      filter: drop-shadow(0px 1px 2px rgba(0, 0, 0, 0.3));\n",
              "      fill: #FFFFFF;\n",
              "    }\n",
              "  </style>\n",
              "\n",
              "      <script>\n",
              "        const buttonEl =\n",
              "          document.querySelector('#df-cb6d4758-821b-406e-95b3-220e5c3a752c button.colab-df-convert');\n",
              "        buttonEl.style.display =\n",
              "          google.colab.kernel.accessAllowed ? 'block' : 'none';\n",
              "\n",
              "        async function convertToInteractive(key) {\n",
              "          const element = document.querySelector('#df-cb6d4758-821b-406e-95b3-220e5c3a752c');\n",
              "          const dataTable =\n",
              "            await google.colab.kernel.invokeFunction('convertToInteractive',\n",
              "                                                     [key], {});\n",
              "          if (!dataTable) return;\n",
              "\n",
              "          const docLinkHtml = 'Like what you see? Visit the ' +\n",
              "            '<a target=\"_blank\" href=https://colab.research.google.com/notebooks/data_table.ipynb>data table notebook</a>'\n",
              "            + ' to learn more about interactive tables.';\n",
              "          element.innerHTML = '';\n",
              "          dataTable['output_type'] = 'display_data';\n",
              "          await google.colab.output.renderOutput(dataTable, element);\n",
              "          const docLink = document.createElement('div');\n",
              "          docLink.innerHTML = docLinkHtml;\n",
              "          element.appendChild(docLink);\n",
              "        }\n",
              "      </script>\n",
              "    </div>\n",
              "  </div>\n",
              "  "
            ]
          },
          "metadata": {},
          "execution_count": 32
        }
      ]
    },
    {
      "cell_type": "code",
      "source": [
        "len(dt_metacritic['Name'].unique())"
      ],
      "metadata": {
        "colab": {
          "base_uri": "https://localhost:8080/"
        },
        "id": "Y86EJUDQXfly",
        "outputId": "7fc68c0b-2cc6-45dc-ae87-137a9944b5c4"
      },
      "execution_count": null,
      "outputs": [
        {
          "output_type": "execute_result",
          "data": {
            "text/plain": [
              "2043"
            ]
          },
          "metadata": {},
          "execution_count": 33
        }
      ]
    },
    {
      "cell_type": "code",
      "source": [
        "dt_metacritic.value_counts('Name')"
      ],
      "metadata": {
        "colab": {
          "base_uri": "https://localhost:8080/"
        },
        "id": "mZnRW6GWXqAY",
        "outputId": "6feeb2d4-7dc3-4248-f358-b42f0666934f"
      },
      "execution_count": null,
      "outputs": [
        {
          "output_type": "execute_result",
          "data": {
            "text/plain": [
              "Name\n",
              "#IDARB                          1\n",
              "Rock Zombie                     1\n",
              "Rugby 15                        1\n",
              "Roundguard                      1\n",
              "Roundabout                      1\n",
              "                               ..\n",
              "Grim Dawn Definitive Edition    1\n",
              "Green Hell                      1\n",
              "GreedFall                       1\n",
              "Graveyard Keeper                1\n",
              "theHunter: Call of the Wild     1\n",
              "Length: 2043, dtype: int64"
            ]
          },
          "metadata": {},
          "execution_count": 34
        }
      ]
    },
    {
      "cell_type": "code",
      "source": [
        "# verificando se há algum jogo que aparece mais de uma vez\n",
        "\n",
        "for value_count in dt_metacritic.value_counts('Name'):\n",
        "  if value_count > 1:\n",
        "    print(True)"
      ],
      "metadata": {
        "id": "wlydp78Zv1ec"
      },
      "execution_count": null,
      "outputs": []
    },
    {
      "cell_type": "code",
      "source": [
        "dt_metacritic.info()"
      ],
      "metadata": {
        "colab": {
          "base_uri": "https://localhost:8080/"
        },
        "id": "T_zFMlaH3EmG",
        "outputId": "8b912db6-e981-4fef-cb6e-d3186dea51a7"
      },
      "execution_count": null,
      "outputs": [
        {
          "output_type": "stream",
          "name": "stdout",
          "text": [
            "<class 'pandas.core.frame.DataFrame'>\n",
            "RangeIndex: 2043 entries, 0 to 2042\n",
            "Data columns (total 4 columns):\n",
            " #   Column        Non-Null Count  Dtype \n",
            "---  ------        --------------  ----- \n",
            " 0   Name          2043 non-null   object\n",
            " 1   Release date  2043 non-null   object\n",
            " 2   Metascore     2043 non-null   object\n",
            " 3   Userscore     2043 non-null   object\n",
            "dtypes: object(4)\n",
            "memory usage: 64.0+ KB\n"
          ]
        }
      ]
    },
    {
      "cell_type": "markdown",
      "source": [
        "Exportando o Dataframe"
      ],
      "metadata": {
        "id": "fCXJLE0s2owM"
      }
    },
    {
      "cell_type": "code",
      "source": [
        "metacritic_xbox_one = dt_metacritic.to_csv('metacritic_xbox_one.csv', index = False, encoding = 'utf-8-sig')"
      ],
      "metadata": {
        "id": "fS2gqIH82qrL"
      },
      "execution_count": null,
      "outputs": []
    }
  ]
}